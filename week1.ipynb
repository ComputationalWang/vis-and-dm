{
 "cells": [
  {
   "cell_type": "markdown",
   "metadata": {},
   "source": [
    "### Exercise 1 - Data set\n",
    "\n",
    "(a) What is the information you can obtain from the data set/ data sets?\n",
    "(i) Understanding demographics like age, occupation, income, and the number of accounts or credit cards each customer holds.\n",
    "(ii) Stability, security, and ability to manage finances effectively by assessing income, outstanding debt, credit utilization ratio, and monthly balances.\n",
    "(iii) Analyzing credit-related behaviors such as credit score, credit inquiries, credit history age, and types of loans.\n",
    "(iv) Identifying payment behaviors including delays from due dates, instances of delayed payments, whether minimum payment amounts are met, etc\n",
    "(v) Analysis on loans by assessing the interest rates on loans, the number and of loans taken by each customer, and changes in credit limits.\n",
    "(vi) Analyzing the payment behavior\n",
    "(vii) Analyze trends over time (4 months)"
   ]
  },
  {
   "cell_type": "code",
   "execution_count": 1,
   "metadata": {
    "ExecuteTime": {
     "end_time": "2023-11-21T15:49:07.573866100Z",
     "start_time": "2023-11-21T15:49:06.761106200Z"
    }
   },
   "outputs": [],
   "source": [
    "import pandas as pd\n"
   ]
  },
  {
   "cell_type": "code",
   "execution_count": 14,
   "metadata": {
    "ExecuteTime": {
     "end_time": "2023-11-24T22:50:53.207458100Z",
     "start_time": "2023-11-24T22:50:52.140211500Z"
    }
   },
   "outputs": [
    {
     "name": "stderr",
     "output_type": "stream",
     "text": [
      "C:\\Users\\ambra\\anaconda3\\lib\\site-packages\\IPython\\core\\interactiveshell.py:3444: DtypeWarning: Columns (0,1,28) have mixed types.Specify dtype option on import or set low_memory=False.\n",
      "  exec(code_obj, self.user_global_ns, self.user_ns)\n"
     ]
    },
    {
     "data": {
      "text/plain": "       Unnamed: 0 Unnamed: 0.1         ID Customer_ID      Month  \\\n0               0            0   \\n0x160a   CUS_0xd40  September   \n1               1            1   \\n0x160b   CUS_0xd40    October   \n2               2            2   \\n0x160c   CUS_0xd40   November   \n3               3            3   \\n0x160d   CUS_0xd40   December   \n4               4            4   \\n0x1616  CUS_0x21b1  September   \n...           ...          ...        ...         ...        ...   \n144897   \\n144897     \\n144897  \\n0x2420b  CUS_0x6308   February   \n144898   \\n144898     \\n144898  \\n0x2420c  CUS_0x6308      March   \n144899   \\n144899     \\n144899  \\n0x2420d  CUS_0x6308      April   \n144900   \\n144900     \\n144900  \\n0x2420e  CUS_0x6308        May   \n144901   \\n144901     \\n144901  \\n0x2420f  CUS_0x6308       June   \n\n                   Name   Age Occupation  Annual_Income  \\\n0         Aaron Maashoh  23.0  Scientist       19114.12   \n1         Aaron Maashoh  24.0  Scientist       19114.12   \n2         Aaron Maashoh  24.0  Scientist       19114.12   \n3         Aaron Maashoh   NaN  Scientist       19114.12   \n4       Rick Rothackerj  28.0        NaN       34847.84   \n...                 ...   ...        ...            ...   \n144897  Rick Rothackerm  43.0  Scientist      130433.68   \n144898  Rick Rothackerm  43.0  Scientist      130433.68   \n144899  Rick Rothackerm  43.0  Scientist      130433.68   \n144900  Rick Rothackerm  43.0  Scientist      130433.68   \n144901  Rick Rothackerm  43.0  Scientist      130433.68   \n\n        Monthly_Inhand_Salary  ...  Credit_Mix  Outstanding_Debt  \\\n0                 1824.843333  ...        Good            809.98   \n1                 1824.843333  ...        Good            809.98   \n2                 1824.843333  ...        Good            809.98   \n3                 1824.843333  ...        Good            809.98   \n4                 3037.986667  ...        Good            605.03   \n...                       ...  ...         ...               ...   \n144897           10597.473330  ...         NaN            825.55   \n144898           10597.473330  ...        Good            825.55   \n144899           10597.473330  ...        Good            825.55   \n144900           10597.473330  ...         NaN            825.55   \n144901           10597.473330  ...        Good            825.55   \n\n        Credit_Utilization_Ratio  Credit_History_Age Payment_of_Min_Amount  \\\n0                      35.030402   22Yearsand9Months                    No   \n1                      33.053114  22Yearsand10Months                    No   \n2                      33.811894                 NaN                    No   \n3                      32.430559   23Yearsand0Months                    No   \n4                      25.926822   27Yearsand3Months                    No   \n...                          ...                 ...                   ...   \n144897                 43.302351   26Yearsand5Months                    No   \n144898                 40.819432   26Yearsand6Months                    No   \n144899                 41.192108   26Yearsand7Months                    No   \n144900                 43.733800   26Yearsand8Months                    No   \n144901                 28.653658   26Yearsand9Months                    No   \n\n        Total_EMI_per_month  Amount_invested_monthly  \\\n0                 49.574949               236.642682   \n1                 49.574949                21.465380   \n2                 49.574949               148.233938   \n3                 49.574949                39.082511   \n4                 18.816215                39.684018   \n...                     ...                      ...   \n144897             0.000000               471.471021   \n144898             0.000000               375.956793   \n144899             0.000000               251.283484   \n144900             0.000000                74.617332   \n144901             0.000000               653.790453   \n\n                       Payment_Behaviour  Monthly_Balance Credit_Score  \n0         Low_spent_Small_value_payments       186.266702          NaN  \n1       High_spent_Medium_value_payments       361.444004          NaN  \n2        Low_spent_Medium_value_payments       264.675446          NaN  \n3       High_spent_Medium_value_payments       343.826873          NaN  \n4        High_spent_Large_value_payments       485.298434          NaN  \n...                                  ...              ...          ...  \n144897   High_spent_Small_value_payments       848.276312         Good  \n144898  High_spent_Medium_value_payments       933.790540         Good  \n144899  High_spent_Medium_value_payments      1058.463850     Standard  \n144900   High_spent_Large_value_payments      1225.130001     Standard  \n144901                               NaN       695.956881     Standard  \n\n[144902 rows x 29 columns]",
      "text/html": "<div>\n<style scoped>\n    .dataframe tbody tr th:only-of-type {\n        vertical-align: middle;\n    }\n\n    .dataframe tbody tr th {\n        vertical-align: top;\n    }\n\n    .dataframe thead th {\n        text-align: right;\n    }\n</style>\n<table border=\"1\" class=\"dataframe\">\n  <thead>\n    <tr style=\"text-align: right;\">\n      <th></th>\n      <th>Unnamed: 0</th>\n      <th>Unnamed: 0.1</th>\n      <th>ID</th>\n      <th>Customer_ID</th>\n      <th>Month</th>\n      <th>Name</th>\n      <th>Age</th>\n      <th>Occupation</th>\n      <th>Annual_Income</th>\n      <th>Monthly_Inhand_Salary</th>\n      <th>...</th>\n      <th>Credit_Mix</th>\n      <th>Outstanding_Debt</th>\n      <th>Credit_Utilization_Ratio</th>\n      <th>Credit_History_Age</th>\n      <th>Payment_of_Min_Amount</th>\n      <th>Total_EMI_per_month</th>\n      <th>Amount_invested_monthly</th>\n      <th>Payment_Behaviour</th>\n      <th>Monthly_Balance</th>\n      <th>Credit_Score</th>\n    </tr>\n  </thead>\n  <tbody>\n    <tr>\n      <th>0</th>\n      <td>0</td>\n      <td>0</td>\n      <td>\\n0x160a</td>\n      <td>CUS_0xd40</td>\n      <td>September</td>\n      <td>Aaron Maashoh</td>\n      <td>23.0</td>\n      <td>Scientist</td>\n      <td>19114.12</td>\n      <td>1824.843333</td>\n      <td>...</td>\n      <td>Good</td>\n      <td>809.98</td>\n      <td>35.030402</td>\n      <td>22Yearsand9Months</td>\n      <td>No</td>\n      <td>49.574949</td>\n      <td>236.642682</td>\n      <td>Low_spent_Small_value_payments</td>\n      <td>186.266702</td>\n      <td>NaN</td>\n    </tr>\n    <tr>\n      <th>1</th>\n      <td>1</td>\n      <td>1</td>\n      <td>\\n0x160b</td>\n      <td>CUS_0xd40</td>\n      <td>October</td>\n      <td>Aaron Maashoh</td>\n      <td>24.0</td>\n      <td>Scientist</td>\n      <td>19114.12</td>\n      <td>1824.843333</td>\n      <td>...</td>\n      <td>Good</td>\n      <td>809.98</td>\n      <td>33.053114</td>\n      <td>22Yearsand10Months</td>\n      <td>No</td>\n      <td>49.574949</td>\n      <td>21.465380</td>\n      <td>High_spent_Medium_value_payments</td>\n      <td>361.444004</td>\n      <td>NaN</td>\n    </tr>\n    <tr>\n      <th>2</th>\n      <td>2</td>\n      <td>2</td>\n      <td>\\n0x160c</td>\n      <td>CUS_0xd40</td>\n      <td>November</td>\n      <td>Aaron Maashoh</td>\n      <td>24.0</td>\n      <td>Scientist</td>\n      <td>19114.12</td>\n      <td>1824.843333</td>\n      <td>...</td>\n      <td>Good</td>\n      <td>809.98</td>\n      <td>33.811894</td>\n      <td>NaN</td>\n      <td>No</td>\n      <td>49.574949</td>\n      <td>148.233938</td>\n      <td>Low_spent_Medium_value_payments</td>\n      <td>264.675446</td>\n      <td>NaN</td>\n    </tr>\n    <tr>\n      <th>3</th>\n      <td>3</td>\n      <td>3</td>\n      <td>\\n0x160d</td>\n      <td>CUS_0xd40</td>\n      <td>December</td>\n      <td>Aaron Maashoh</td>\n      <td>NaN</td>\n      <td>Scientist</td>\n      <td>19114.12</td>\n      <td>1824.843333</td>\n      <td>...</td>\n      <td>Good</td>\n      <td>809.98</td>\n      <td>32.430559</td>\n      <td>23Yearsand0Months</td>\n      <td>No</td>\n      <td>49.574949</td>\n      <td>39.082511</td>\n      <td>High_spent_Medium_value_payments</td>\n      <td>343.826873</td>\n      <td>NaN</td>\n    </tr>\n    <tr>\n      <th>4</th>\n      <td>4</td>\n      <td>4</td>\n      <td>\\n0x1616</td>\n      <td>CUS_0x21b1</td>\n      <td>September</td>\n      <td>Rick Rothackerj</td>\n      <td>28.0</td>\n      <td>NaN</td>\n      <td>34847.84</td>\n      <td>3037.986667</td>\n      <td>...</td>\n      <td>Good</td>\n      <td>605.03</td>\n      <td>25.926822</td>\n      <td>27Yearsand3Months</td>\n      <td>No</td>\n      <td>18.816215</td>\n      <td>39.684018</td>\n      <td>High_spent_Large_value_payments</td>\n      <td>485.298434</td>\n      <td>NaN</td>\n    </tr>\n    <tr>\n      <th>...</th>\n      <td>...</td>\n      <td>...</td>\n      <td>...</td>\n      <td>...</td>\n      <td>...</td>\n      <td>...</td>\n      <td>...</td>\n      <td>...</td>\n      <td>...</td>\n      <td>...</td>\n      <td>...</td>\n      <td>...</td>\n      <td>...</td>\n      <td>...</td>\n      <td>...</td>\n      <td>...</td>\n      <td>...</td>\n      <td>...</td>\n      <td>...</td>\n      <td>...</td>\n      <td>...</td>\n    </tr>\n    <tr>\n      <th>144897</th>\n      <td>\\n144897</td>\n      <td>\\n144897</td>\n      <td>\\n0x2420b</td>\n      <td>CUS_0x6308</td>\n      <td>February</td>\n      <td>Rick Rothackerm</td>\n      <td>43.0</td>\n      <td>Scientist</td>\n      <td>130433.68</td>\n      <td>10597.473330</td>\n      <td>...</td>\n      <td>NaN</td>\n      <td>825.55</td>\n      <td>43.302351</td>\n      <td>26Yearsand5Months</td>\n      <td>No</td>\n      <td>0.000000</td>\n      <td>471.471021</td>\n      <td>High_spent_Small_value_payments</td>\n      <td>848.276312</td>\n      <td>Good</td>\n    </tr>\n    <tr>\n      <th>144898</th>\n      <td>\\n144898</td>\n      <td>\\n144898</td>\n      <td>\\n0x2420c</td>\n      <td>CUS_0x6308</td>\n      <td>March</td>\n      <td>Rick Rothackerm</td>\n      <td>43.0</td>\n      <td>Scientist</td>\n      <td>130433.68</td>\n      <td>10597.473330</td>\n      <td>...</td>\n      <td>Good</td>\n      <td>825.55</td>\n      <td>40.819432</td>\n      <td>26Yearsand6Months</td>\n      <td>No</td>\n      <td>0.000000</td>\n      <td>375.956793</td>\n      <td>High_spent_Medium_value_payments</td>\n      <td>933.790540</td>\n      <td>Good</td>\n    </tr>\n    <tr>\n      <th>144899</th>\n      <td>\\n144899</td>\n      <td>\\n144899</td>\n      <td>\\n0x2420d</td>\n      <td>CUS_0x6308</td>\n      <td>April</td>\n      <td>Rick Rothackerm</td>\n      <td>43.0</td>\n      <td>Scientist</td>\n      <td>130433.68</td>\n      <td>10597.473330</td>\n      <td>...</td>\n      <td>Good</td>\n      <td>825.55</td>\n      <td>41.192108</td>\n      <td>26Yearsand7Months</td>\n      <td>No</td>\n      <td>0.000000</td>\n      <td>251.283484</td>\n      <td>High_spent_Medium_value_payments</td>\n      <td>1058.463850</td>\n      <td>Standard</td>\n    </tr>\n    <tr>\n      <th>144900</th>\n      <td>\\n144900</td>\n      <td>\\n144900</td>\n      <td>\\n0x2420e</td>\n      <td>CUS_0x6308</td>\n      <td>May</td>\n      <td>Rick Rothackerm</td>\n      <td>43.0</td>\n      <td>Scientist</td>\n      <td>130433.68</td>\n      <td>10597.473330</td>\n      <td>...</td>\n      <td>NaN</td>\n      <td>825.55</td>\n      <td>43.733800</td>\n      <td>26Yearsand8Months</td>\n      <td>No</td>\n      <td>0.000000</td>\n      <td>74.617332</td>\n      <td>High_spent_Large_value_payments</td>\n      <td>1225.130001</td>\n      <td>Standard</td>\n    </tr>\n    <tr>\n      <th>144901</th>\n      <td>\\n144901</td>\n      <td>\\n144901</td>\n      <td>\\n0x2420f</td>\n      <td>CUS_0x6308</td>\n      <td>June</td>\n      <td>Rick Rothackerm</td>\n      <td>43.0</td>\n      <td>Scientist</td>\n      <td>130433.68</td>\n      <td>10597.473330</td>\n      <td>...</td>\n      <td>Good</td>\n      <td>825.55</td>\n      <td>28.653658</td>\n      <td>26Yearsand9Months</td>\n      <td>No</td>\n      <td>0.000000</td>\n      <td>653.790453</td>\n      <td>NaN</td>\n      <td>695.956881</td>\n      <td>Standard</td>\n    </tr>\n  </tbody>\n</table>\n<p>144902 rows × 29 columns</p>\n</div>"
     },
     "execution_count": 14,
     "metadata": {},
     "output_type": "execute_result"
    }
   ],
   "source": [
    "#path = 'C://Users//20223760//OneDrive - TU Eindhoven//Documents//School//Year 2//Q2//Visualization//Assignment 1//all_data.csv'\n",
    "path = 'all_data.csv'\n",
    "path1 = 'clean_data.csv'\n",
    "path2 = 'filled_data.csv'\n",
    "df = pd.read_csv(path1, sep=',', lineterminator='\\r')\n",
    "df.head(-5100)\n"
   ]
  },
  {
   "cell_type": "markdown",
   "metadata": {},
   "source": [
    "(b) What are the attributes in the data and what is their meaning?\n",
    "ID: Unique identifier for each entry or record.\n",
    "Customer_ID: Unique identifier for each customer.\n",
    "Month: Month of the data entry.(sept-oct-nov-dec)\n",
    "Name: Name of the customer.\n",
    "Age: Age of the customer.\n",
    "SSN: Social Security Number of the customer.\n",
    "Occupation: Occupation or job title of the customer.\n",
    "Annual_Income: Annual income of the customer.\n",
    "Monthly_Inhand_Salary: Monthly take-home salary of the customer.\n",
    "Num_Bank_Accounts: Number of bank accounts the customer has.\n",
    "Num_Credit_Card: Number of credit cards the customer has.\n",
    "Interest_Rate: Interest rate associated with the customer's loans.\n",
    "Num_of_Loan: Number of loans the customer has.\n",
    "Type_of_Loan: Types of loans (e.g., Auto Loan, Credit-Builder Loan, Personal Loan, Home Equity Loan).\n",
    "Delay_from_due_date: Delay from the due date for payments.\n",
    "Num_of_Delayed_Payment: Number of delayed payments.\n",
    "Changed_Credit_Limit: Indicates if the credit limit has been changed.\n",
    "Num_Credit_Inquiries: Number of credit inquiries made by the customer.\n",
    "Credit_Mix: Mix of credit types (standard, good, etc).\n",
    "Outstanding_Debt: Amount of outstanding debt.\n",
    "Credit_Utilization_Ratio: Ratio of credit used to credit available.\n",
    "Credit_History_Age: Age of the credit history.\n",
    "Payment_of_Min_Amount: Indicates if the minimum payment amount has been paid.\n",
    "Total_EMI_per_month: Total Equated Monthly Installment (EMI) amount.\n",
    "Amount_invested_monthly: Amount invested by the customer monthly.\n",
    "Payment_Behaviour: Behavior related to payments (e.g., Low_spent_Small_value_payments).\n",
    "Monthly_Balance: Monthly balance in the account.\n",
    "Credit_Score: Credit score of the customer."
   ]
  },
  {
   "cell_type": "code",
   "execution_count": null,
   "metadata": {},
   "outputs": [],
   "source": []
  },
  {
   "cell_type": "markdown",
   "metadata": {},
   "source": [
    "(c) Write a small parsing function that can read the data position (column, row) from the file format \n",
    "you selected."
   ]
  },
  {
   "cell_type": "code",
   "execution_count": null,
   "metadata": {},
   "outputs": [],
   "source": []
  },
  {
   "cell_type": "markdown",
   "metadata": {},
   "source": [
    "(d) Write another function that outputs the distribution of the attributes, and counts the frequencies of \n",
    "the different values. "
   ]
  },
  {
   "cell_type": "code",
   "execution_count": null,
   "metadata": {},
   "outputs": [],
   "source": []
  },
  {
   "cell_type": "markdown",
   "metadata": {},
   "source": [
    "(e) Try to describe the data set in just a few sentences. How is the data provided? Which kind of \n",
    "attributes are contained in the data set? How large is the data set in terms of the number of those \n",
    "elements (listings, reviews, vehicles, geographic regions and locations, extra records, and so on)? "
   ]
  },
  {
   "cell_type": "code",
   "execution_count": null,
   "metadata": {},
   "outputs": [],
   "source": []
  },
  {
   "cell_type": "markdown",
   "metadata": {},
   "source": [
    "(f) Analyze the errors and missing values. Write a function to count how many missing values per \n",
    "attribute and per entry you have. Analyze what are the most relevant missing values that might \n",
    "hinder the analysis according to you. "
   ]
  },
  {
   "cell_type": "code",
   "execution_count": 11,
   "metadata": {},
   "outputs": [],
   "source": [
    "# Gives the count back of missing values of attributes and entries.\n",
    "def count_missing_values(df):\n",
    "    # Count missing values per attribute\n",
    "    missing_per_attribute = df.isnull().sum()\n",
    "\n",
    "    # Count missing values per entry (row)\n",
    "    missing_per_entry = df.isnull().sum(axis=1)\n",
    "\n",
    "    return missing_per_attribute, missing_per_entry\n",
    "\n",
    "\n",
    "missing_attributes, missing_entries = count_missing_values(df)"
   ]
  },
  {
   "cell_type": "code",
   "execution_count": 13,
   "metadata": {},
   "outputs": [
    {
     "data": {
      "text/plain": [
       "(ID                              0\n",
       " Customer_ID                     1\n",
       " Month                           1\n",
       " Name                        15001\n",
       " Age                             1\n",
       " SSN                             1\n",
       " Occupation                      1\n",
       " Annual_Income                   1\n",
       " Monthly_Inhand_Salary       22501\n",
       " Num_Bank_Accounts               1\n",
       " Num_Credit_Card                 1\n",
       " Interest_Rate                   1\n",
       " Num_of_Loan                     1\n",
       " Type_of_Loan                17113\n",
       " Delay_from_due_date             1\n",
       " Num_of_Delayed_Payment      10501\n",
       " Changed_Credit_Limit            1\n",
       " Num_Credit_Inquiries         3001\n",
       " Credit_Mix                      1\n",
       " Outstanding_Debt                1\n",
       " Credit_Utilization_Ratio        1\n",
       " Credit_History_Age          13501\n",
       " Payment_of_Min_Amount           1\n",
       " Total_EMI_per_month             1\n",
       " Amount_invested_monthly      6751\n",
       " Payment_Behaviour               1\n",
       " Monthly_Balance              1763\n",
       " Credit_Score                50001\n",
       " dtype: int64,\n",
       " 0          1\n",
       " 1          1\n",
       " 2          2\n",
       " 3          2\n",
       " 4          1\n",
       "           ..\n",
       " 149996     0\n",
       " 149997     0\n",
       " 149998     1\n",
       " 149999     0\n",
       " 150000    27\n",
       " Length: 150001, dtype: int64)"
      ]
     },
     "execution_count": 13,
     "metadata": {},
     "output_type": "execute_result"
    }
   ],
   "source": [
    "missing_attributes, missing_entries"
   ]
  },
  {
   "cell_type": "markdown",
   "metadata": {},
   "source": [
    "(g) Think about possible solutions for the missing/error values and propose a solution arguing your \n",
    "choice."
   ]
  },
  {
   "cell_type": "markdown",
   "metadata": {},
   "source": [
    "Most important relevant missing data is the Credit_History_Age, and Num_of_Delayed_Payment as these\n",
    "are important for predicting a persons credit score in the future.\n",
    "\n",
    "As the dataset is quite large and has lots of data, I suggest to fill the rows with the mean. This way the ML algo can predict the ones left more accurately and also have a better shot of understanding the data to compare it to the future."
   ]
  },
  {
   "cell_type": "code",
   "execution_count": null,
   "metadata": {},
   "outputs": [],
   "source": []
  }
 ],
 "metadata": {
  "kernelspec": {
   "display_name": "Python 3",
   "language": "python",
   "name": "python3"
  },
  "language_info": {
   "codemirror_mode": {
    "name": "ipython",
    "version": 3
   },
   "file_extension": ".py",
   "mimetype": "text/x-python",
   "name": "python",
   "nbconvert_exporter": "python",
   "pygments_lexer": "ipython3",
   "version": "3.8.8"
  }
 },
 "nbformat": 4,
 "nbformat_minor": 2
}
