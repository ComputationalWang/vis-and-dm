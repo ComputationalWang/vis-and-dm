{
 "cells": [
  {
   "cell_type": "markdown",
   "metadata": {},
   "source": [
    "### Exercise 1 - Data set\n",
    "\n",
    "(a) What is the information you can obtain from the data set/ data sets?"
   ]
  },
  {
   "cell_type": "code",
   "execution_count": 5,
   "metadata": {},
   "outputs": [],
   "source": [
    "import pandas as pd\n"
   ]
  },
  {
   "cell_type": "code",
   "execution_count": 6,
   "metadata": {},
   "outputs": [
    {
     "name": "stderr",
     "output_type": "stream",
     "text": [
      "C:\\ProgramData\\Anaconda3\\lib\\site-packages\\IPython\\core\\interactiveshell.py:3165: DtypeWarning: Columns (27) have mixed types.Specify dtype option on import or set low_memory=False.\n",
      "  has_raised = await self.run_ast_nodes(code_ast.body, cell_name,\n"
     ]
    }
   ],
   "source": [
    "path = 'C://Users//20223760//OneDrive - TU Eindhoven//Documents//School//Year 2//Q2//Visualization//Assignment 1//all_data.csv'\n",
    "# path = 'all_data.csv'\n",
    "df = pd.read_csv(path, sep=';', lineterminator='\\r')"
   ]
  },
  {
   "cell_type": "markdown",
   "metadata": {},
   "source": [
    "(b) What are the attributes in the data and what is their meaning?"
   ]
  },
  {
   "cell_type": "code",
   "execution_count": null,
   "metadata": {},
   "outputs": [],
   "source": []
  },
  {
   "cell_type": "markdown",
   "metadata": {},
   "source": [
    "(c) Write a small parsing function that can read the data position (column, row) from the file format \n",
    "you selected."
   ]
  },
  {
   "cell_type": "code",
   "execution_count": null,
   "metadata": {},
   "outputs": [],
   "source": []
  },
  {
   "cell_type": "markdown",
   "metadata": {},
   "source": [
    "(d) Write another function that outputs the distribution of the attributes, and counts the frequencies of \n",
    "the different values. "
   ]
  },
  {
   "cell_type": "code",
   "execution_count": null,
   "metadata": {},
   "outputs": [],
   "source": []
  },
  {
   "cell_type": "markdown",
   "metadata": {},
   "source": [
    "(e) Try to describe the data set in just a few sentences. How is the data provided? Which kind of \n",
    "attributes are contained in the data set? How large is the data set in terms of the number of those \n",
    "elements (listings, reviews, vehicles, geographic regions and locations, extra records, and so on)? "
   ]
  },
  {
   "cell_type": "code",
   "execution_count": null,
   "metadata": {},
   "outputs": [],
   "source": []
  },
  {
   "cell_type": "markdown",
   "metadata": {},
   "source": [
    "(f) Analyze the errors and missing values. Write a function to count how many missing values per \n",
    "attribute and per entry you have. Analyze what are the most relevant missing values that might \n",
    "hinder the analysis according to you. "
   ]
  },
  {
   "cell_type": "code",
   "execution_count": 9,
   "metadata": {},
   "outputs": [
    {
     "name": "stdout",
     "output_type": "stream",
     "text": [
      "Missing Values per Attribute:\n",
      "ID                              0\n",
      "Customer_ID                     1\n",
      "Month                           1\n",
      "Name                        15001\n",
      "Age                             1\n",
      "SSN                             1\n",
      "Occupation                      1\n",
      "Annual_Income                   1\n",
      "Monthly_Inhand_Salary       22501\n",
      "Num_Bank_Accounts               1\n",
      "Num_Credit_Card                 1\n",
      "Interest_Rate                   1\n",
      "Num_of_Loan                     1\n",
      "Type_of_Loan                17113\n",
      "Delay_from_due_date             1\n",
      "Num_of_Delayed_Payment      10501\n",
      "Changed_Credit_Limit            1\n",
      "Num_Credit_Inquiries         3001\n",
      "Credit_Mix                      1\n",
      "Outstanding_Debt                1\n",
      "Credit_Utilization_Ratio        1\n",
      "Credit_History_Age          13501\n",
      "Payment_of_Min_Amount           1\n",
      "Total_EMI_per_month             1\n",
      "Amount_invested_monthly      6751\n",
      "Payment_Behaviour               1\n",
      "Monthly_Balance              1763\n",
      "Credit_Score                50001\n",
      "dtype: int64\n",
      "\n",
      "Missing Values per Entry:\n",
      "0          1\n",
      "1          1\n",
      "2          2\n",
      "3          2\n",
      "4          1\n",
      "          ..\n",
      "149996     0\n",
      "149997     0\n",
      "149998     1\n",
      "149999     0\n",
      "150000    27\n",
      "Length: 150001, dtype: int64\n"
     ]
    },
    {
     "data": {
      "text/plain": [
       "(ID                              0\n",
       " Customer_ID                     1\n",
       " Month                           1\n",
       " Name                        15001\n",
       " Age                             1\n",
       " SSN                             1\n",
       " Occupation                      1\n",
       " Annual_Income                   1\n",
       " Monthly_Inhand_Salary       22501\n",
       " Num_Bank_Accounts               1\n",
       " Num_Credit_Card                 1\n",
       " Interest_Rate                   1\n",
       " Num_of_Loan                     1\n",
       " Type_of_Loan                17113\n",
       " Delay_from_due_date             1\n",
       " Num_of_Delayed_Payment      10501\n",
       " Changed_Credit_Limit            1\n",
       " Num_Credit_Inquiries         3001\n",
       " Credit_Mix                      1\n",
       " Outstanding_Debt                1\n",
       " Credit_Utilization_Ratio        1\n",
       " Credit_History_Age          13501\n",
       " Payment_of_Min_Amount           1\n",
       " Total_EMI_per_month             1\n",
       " Amount_invested_monthly      6751\n",
       " Payment_Behaviour               1\n",
       " Monthly_Balance              1763\n",
       " Credit_Score                50001\n",
       " dtype: int64,\n",
       " 0          1\n",
       " 1          1\n",
       " 2          2\n",
       " 3          2\n",
       " 4          1\n",
       "           ..\n",
       " 149996     0\n",
       " 149997     0\n",
       " 149998     1\n",
       " 149999     0\n",
       " 150000    27\n",
       " Length: 150001, dtype: int64)"
      ]
     },
     "execution_count": 9,
     "metadata": {},
     "output_type": "execute_result"
    }
   ],
   "source": [
    "# Gives the count back of missing values of attributes and entries.\n",
    "def count_missing_values(df):\n",
    "    # Count missing values per attribute\n",
    "    missing_per_attribute = df.isnull().sum()\n",
    "\n",
    "    # Count missing values per entry (row)\n",
    "    missing_per_entry = df.isnull().sum(axis=1)\n",
    "\n",
    "    return missing_per_attribute, missing_per_entry\n",
    "\n",
    "\n",
    "missing_attributes, missing_entries = count_missing_values(df)\n",
    "\n",
    "# Display the results\n",
    "print(\"Missing Values per Attribute:\")\n",
    "print(missing_attributes)\n",
    "\n",
    "print(\"\\nMissing Values per Entry:\")\n",
    "print(missing_entries)"
   ]
  },
  {
   "cell_type": "markdown",
   "metadata": {},
   "source": [
    "(g) Think about possible solutions for the missing/error values and propose a solution arguing your \n",
    "choice."
   ]
  },
  {
   "cell_type": "markdown",
   "metadata": {},
   "source": [
    "Most important relevant missing data is the Credit_History_Age, and Num_of_Delayed_Payment as these\n",
    "are important for predicting a persons credit score in the future.\n",
    "\n",
    "As the dataset is quite large and has lots of data, I suggest to fill the rows with the mean. This way the ML algo can predict the ones left more accurately and also have a better shot of understanding the data to compare it to the future."
   ]
  },
  {
   "cell_type": "code",
   "execution_count": null,
   "metadata": {},
   "outputs": [],
   "source": []
  }
 ],
 "metadata": {
  "kernelspec": {
   "display_name": "Python 3",
   "language": "python",
   "name": "python3"
  },
  "language_info": {
   "codemirror_mode": {
    "name": "ipython",
    "version": 3
   },
   "file_extension": ".py",
   "mimetype": "text/x-python",
   "name": "python",
   "nbconvert_exporter": "python",
   "pygments_lexer": "ipython3",
   "version": "3.8.8"
  }
 },
 "nbformat": 4,
 "nbformat_minor": 2
}
