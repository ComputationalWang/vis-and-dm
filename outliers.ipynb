{
 "cells": [
  {
   "cell_type": "code",
   "execution_count": 3,
   "metadata": {
    "collapsed": true,
    "ExecuteTime": {
     "end_time": "2023-11-28T14:10:18.363064100Z",
     "start_time": "2023-11-28T14:10:16.748961800Z"
    }
   },
   "outputs": [],
   "source": [
    "import pandas as pd\n",
    "import regex as re\n",
    "import matplotlib.pyplot as plt"
   ]
  },
  {
   "cell_type": "code",
   "execution_count": 4,
   "outputs": [
    {
     "name": "stderr",
     "output_type": "stream",
     "text": [
      "C:\\Users\\ambra\\anaconda3\\lib\\site-packages\\IPython\\core\\interactiveshell.py:3444: DtypeWarning: Columns (1,28) have mixed types.Specify dtype option on import or set low_memory=False.\n",
      "  exec(code_obj, self.user_global_ns, self.user_ns)\n"
     ]
    },
    {
     "name": "stdout",
     "output_type": "stream",
     "text": [
      "        Unnamed: 0.1        ID Customer_ID      Month    Name Occupation  \\\n",
      "count         150001    150000      150000     150000  135000     139500   \n",
      "unique        150001    150000       12500         12   10139         15   \n",
      "top                0  \\n0x160a   CUS_0xd40  September  Stevex     Lawyer   \n",
      "freq               1         1          12      12500      66       9899   \n",
      "\n",
      "         Type_of_Loan Changed_Credit_Limit Credit_Mix  Credit_History_Age  \\\n",
      "count          132888               150000     120000              136500   \n",
      "unique           6260                 3771          3                 408   \n",
      "top     Not Specified                    _   Standard  17Yearsand11Months   \n",
      "freq             2112                 3150      54858                 628   \n",
      "\n",
      "       Payment_of_Min_Amount               Payment_Behaviour Credit_Score  \n",
      "count                 150000                          138600       100000  \n",
      "unique                     3                               6            3  \n",
      "top                      Yes  Low_spent_Small_value_payments     Standard  \n",
      "freq                   78484                           38207        53174  \n"
     ]
    }
   ],
   "source": [
    "df = pd.read_csv(\"clean_data.csv\")\n",
    "print(df.describe(include='object'))\n"
   ],
   "metadata": {
    "collapsed": false,
    "ExecuteTime": {
     "end_time": "2023-11-28T14:10:19.472643300Z",
     "start_time": "2023-11-28T14:10:18.363064100Z"
    }
   }
  },
  {
   "cell_type": "code",
   "execution_count": 5,
   "outputs": [
    {
     "data": {
      "text/plain": "39.0      4198\n32.0      4189\n28.0      4173\n26.0      4140\n35.0      4130\n          ... \n5795.0       1\n2744.0       1\n6452.0       1\n5112.0       1\n2263.0       1\nName: Age, Length: 2355, dtype: int64"
     },
     "execution_count": 5,
     "metadata": {},
     "output_type": "execute_result"
    }
   ],
   "source": [
    "df.Age.value_counts()"
   ],
   "metadata": {
    "collapsed": false,
    "ExecuteTime": {
     "end_time": "2023-11-28T14:10:19.544781400Z",
     "start_time": "2023-11-28T14:10:19.483364Z"
    }
   }
  },
  {
   "cell_type": "code",
   "execution_count": 6,
   "outputs": [
    {
     "data": {
      "text/plain": "<AxesSubplot:>"
     },
     "execution_count": 6,
     "metadata": {},
     "output_type": "execute_result"
    },
    {
     "data": {
      "text/plain": "<Figure size 432x288 with 1 Axes>",
      "image/png": "[encoded data removed]"
     },
     "metadata": {
      "needs_background": "light"
     },
     "output_type": "display_data"
    }
   ],
   "source": [
    "df.Age.value_counts().plot(kind='bar')"
   ],
   "metadata": {
    "collapsed": false,
    "ExecuteTime": {
     "end_time": "2023-11-28T14:10:39.982466200Z",
     "start_time": "2023-11-28T14:10:19.509435300Z"
    }
   }
  },
  {
   "cell_type": "code",
   "execution_count": 7,
   "outputs": [],
   "source": [
    "# get customer id for nan values in Name Column\n",
    "customer_IDs = df[(df['Age'].isna()) | (df['Age'] > 100) | (df['Age'] < 0)]['Customer_ID'].values"
   ],
   "metadata": {
    "collapsed": false,
    "ExecuteTime": {
     "end_time": "2023-11-28T14:10:40.050219200Z",
     "start_time": "2023-11-28T14:10:39.982466200Z"
    }
   }
  },
  {
   "cell_type": "code",
   "execution_count": 8,
   "outputs": [
    {
     "data": {
      "text/plain": "array(['CUS_0xd40', 'CUS_0x95ee', 'CUS_0x4157', ..., 'CUS_0xf16',\n       'CUS_0x8600', nan], dtype=object)"
     },
     "execution_count": 8,
     "metadata": {},
     "output_type": "execute_result"
    }
   ],
   "source": [
    "customer_IDs"
   ],
   "metadata": {
    "collapsed": false,
    "ExecuteTime": {
     "end_time": "2023-11-28T14:10:40.050219200Z",
     "start_time": "2023-11-28T14:10:40.013872200Z"
    }
   }
  },
  {
   "cell_type": "code",
   "execution_count": 9,
   "outputs": [],
   "source": [
    "# get real age by customer id\n",
    "for id in customer_IDs:\n",
    "    realAge = 0\n",
    "    try:\n",
    "        realAge = df.loc[(df['Customer_ID'] == id) & (df['Age'].notna()) & (df['Age'] < 100) & (df['Age'] > 0)]['Age'].values[-1]\n",
    "    except IndexError:\n",
    "        continue\n",
    "    # fill missing value\n",
    "    df.loc[(df['Customer_ID'] == id) & ((df['Age'].isna()) | (df['Age'] > 100) | (df['Age'] < 0)), ['Age']] = realAge"
   ],
   "metadata": {
    "collapsed": false,
    "ExecuteTime": {
     "end_time": "2023-11-28T14:14:37.372440800Z",
     "start_time": "2023-11-28T14:10:40.033097400Z"
    }
   }
  },
  {
   "cell_type": "code",
   "execution_count": 10,
   "outputs": [
    {
     "data": {
      "text/plain": "<AxesSubplot:>"
     },
     "execution_count": 10,
     "metadata": {},
     "output_type": "execute_result"
    },
    {
     "data": {
      "text/plain": "<Figure size 432x288 with 1 Axes>",
      "image/png": "[encoded data removed]"
     },
     "metadata": {
      "needs_background": "light"
     },
     "output_type": "display_data"
    }
   ],
   "source": [
    "df.Age.value_counts().plot(kind='bar')"
   ],
   "metadata": {
    "collapsed": false,
    "ExecuteTime": {
     "end_time": "2023-11-28T14:14:37.812183500Z",
     "start_time": "2023-11-28T14:14:37.387998800Z"
    }
   }
  },
  {
   "cell_type": "code",
   "execution_count": 11,
   "outputs": [
    {
     "data": {
      "text/plain": "count    1.500000e+05\nmean     1.730552e+05\nstd      1.404215e+06\nmin      7.005930e+03\n25%      1.945549e+04\n50%      3.757861e+04\n75%      7.279690e+04\nmax      2.419806e+07\nName: Annual_Income, dtype: float64"
     },
     "execution_count": 11,
     "metadata": {},
     "output_type": "execute_result"
    }
   ],
   "source": [
    "df['Annual_Income'].describe()"
   ],
   "metadata": {
    "collapsed": false,
    "ExecuteTime": {
     "end_time": "2023-11-28T14:14:37.901626600Z",
     "start_time": "2023-11-28T14:14:37.812183500Z"
    }
   }
  },
  {
   "cell_type": "code",
   "execution_count": 12,
   "outputs": [
    {
     "data": {
      "text/plain": "<AxesSubplot:>"
     },
     "execution_count": 12,
     "metadata": {},
     "output_type": "execute_result"
    },
    {
     "data": {
      "text/plain": "<Figure size 432x288 with 1 Axes>",
      "image/png": "[encoded data removed]"
     },
     "metadata": {
      "needs_background": "light"
     },
     "output_type": "display_data"
    }
   ],
   "source": [
    "df.Annual_Income.plot(kind='line')"
   ],
   "metadata": {
    "collapsed": false,
    "ExecuteTime": {
     "end_time": "2023-11-28T14:14:38.112343400Z",
     "start_time": "2023-11-28T14:14:37.848687100Z"
    }
   }
  },
  {
   "cell_type": "code",
   "execution_count": 12,
   "outputs": [],
   "source": [],
   "metadata": {
    "collapsed": false,
    "ExecuteTime": {
     "end_time": "2023-11-28T14:14:38.121909200Z",
     "start_time": "2023-11-28T14:14:38.105951700Z"
    }
   }
  },
  {
   "cell_type": "markdown",
   "source": [
    "Credit History Age"
   ],
   "metadata": {
    "collapsed": false
   }
  },
  {
   "cell_type": "code",
   "execution_count": 14,
   "outputs": [
    {
     "data": {
      "text/plain": "   Unnamed: 0 Unnamed: 0.1        ID Customer_ID      Month             Name  \\\n0           0            0  \\n0x160a   CUS_0xd40  September    Aaron Maashoh   \n1           1            1  \\n0x160b   CUS_0xd40    October    Aaron Maashoh   \n2           2            2  \\n0x160c   CUS_0xd40   November    Aaron Maashoh   \n3           3            3  \\n0x160d   CUS_0xd40   December    Aaron Maashoh   \n4           4            4  \\n0x1616  CUS_0x21b1  September  Rick Rothackerj   \n\n    Age Occupation  Annual_Income  Monthly_Inhand_Salary  ...  \\\n0  23.0  Scientist       19114.12            1824.843333  ...   \n1  24.0  Scientist       19114.12            1824.843333  ...   \n2  24.0  Scientist       19114.12            1824.843333  ...   \n3  23.0  Scientist       19114.12            1824.843333  ...   \n4  28.0        NaN       34847.84            3037.986667  ...   \n\n   Outstanding_Debt  Credit_Utilization_Ratio  Credit_History_Age  \\\n0            809.98                 35.030402   22Yearsand9Months   \n1            809.98                 33.053114  22Yearsand10Months   \n2            809.98                 33.811894                 NaN   \n3            809.98                 32.430559   23Yearsand0Months   \n4            605.03                 25.926822   27Yearsand3Months   \n\n   Payment_of_Min_Amount Total_EMI_per_month  Amount_invested_monthly  \\\n0                     No           49.574949               236.642682   \n1                     No           49.574949                21.465380   \n2                     No           49.574949               148.233938   \n3                     No           49.574949                39.082511   \n4                     No           18.816215                39.684018   \n\n                  Payment_Behaviour Monthly_Balance  Credit_Score  \\\n0    Low_spent_Small_value_payments      186.266702           NaN   \n1  High_spent_Medium_value_payments      361.444004           NaN   \n2   Low_spent_Medium_value_payments      264.675446           NaN   \n3  High_spent_Medium_value_payments      343.826873           NaN   \n4   High_spent_Large_value_payments      485.298434           NaN   \n\n  Credit_History_Age_float  \n0                22.750000  \n1                22.833333  \n2                      NaN  \n3                23.000000  \n4                27.250000  \n\n[5 rows x 30 columns]",
      "text/html": "<div>\n<style scoped>\n    .dataframe tbody tr th:only-of-type {\n        vertical-align: middle;\n    }\n\n    .dataframe tbody tr th {\n        vertical-align: top;\n    }\n\n    .dataframe thead th {\n        text-align: right;\n    }\n</style>\n<table border=\"1\" class=\"dataframe\">\n  <thead>\n    <tr style=\"text-align: right;\">\n      <th></th>\n      <th>Unnamed: 0</th>\n      <th>Unnamed: 0.1</th>\n      <th>ID</th>\n      <th>Customer_ID</th>\n      <th>Month</th>\n      <th>Name</th>\n      <th>Age</th>\n      <th>Occupation</th>\n      <th>Annual_Income</th>\n      <th>Monthly_Inhand_Salary</th>\n      <th>...</th>\n      <th>Outstanding_Debt</th>\n      <th>Credit_Utilization_Ratio</th>\n      <th>Credit_History_Age</th>\n      <th>Payment_of_Min_Amount</th>\n      <th>Total_EMI_per_month</th>\n      <th>Amount_invested_monthly</th>\n      <th>Payment_Behaviour</th>\n      <th>Monthly_Balance</th>\n      <th>Credit_Score</th>\n      <th>Credit_History_Age_float</th>\n    </tr>\n  </thead>\n  <tbody>\n    <tr>\n      <th>0</th>\n      <td>0</td>\n      <td>0</td>\n      <td>\\n0x160a</td>\n      <td>CUS_0xd40</td>\n      <td>September</td>\n      <td>Aaron Maashoh</td>\n      <td>23.0</td>\n      <td>Scientist</td>\n      <td>19114.12</td>\n      <td>1824.843333</td>\n      <td>...</td>\n      <td>809.98</td>\n      <td>35.030402</td>\n      <td>22Yearsand9Months</td>\n      <td>No</td>\n      <td>49.574949</td>\n      <td>236.642682</td>\n      <td>Low_spent_Small_value_payments</td>\n      <td>186.266702</td>\n      <td>NaN</td>\n      <td>22.750000</td>\n    </tr>\n    <tr>\n      <th>1</th>\n      <td>1</td>\n      <td>1</td>\n      <td>\\n0x160b</td>\n      <td>CUS_0xd40</td>\n      <td>October</td>\n      <td>Aaron Maashoh</td>\n      <td>24.0</td>\n      <td>Scientist</td>\n      <td>19114.12</td>\n      <td>1824.843333</td>\n      <td>...</td>\n      <td>809.98</td>\n      <td>33.053114</td>\n      <td>22Yearsand10Months</td>\n      <td>No</td>\n      <td>49.574949</td>\n      <td>21.465380</td>\n      <td>High_spent_Medium_value_payments</td>\n      <td>361.444004</td>\n      <td>NaN</td>\n      <td>22.833333</td>\n    </tr>\n    <tr>\n      <th>2</th>\n      <td>2</td>\n      <td>2</td>\n      <td>\\n0x160c</td>\n      <td>CUS_0xd40</td>\n      <td>November</td>\n      <td>Aaron Maashoh</td>\n      <td>24.0</td>\n      <td>Scientist</td>\n      <td>19114.12</td>\n      <td>1824.843333</td>\n      <td>...</td>\n      <td>809.98</td>\n      <td>33.811894</td>\n      <td>NaN</td>\n      <td>No</td>\n      <td>49.574949</td>\n      <td>148.233938</td>\n      <td>Low_spent_Medium_value_payments</td>\n      <td>264.675446</td>\n      <td>NaN</td>\n      <td>NaN</td>\n    </tr>\n    <tr>\n      <th>3</th>\n      <td>3</td>\n      <td>3</td>\n      <td>\\n0x160d</td>\n      <td>CUS_0xd40</td>\n      <td>December</td>\n      <td>Aaron Maashoh</td>\n      <td>23.0</td>\n      <td>Scientist</td>\n      <td>19114.12</td>\n      <td>1824.843333</td>\n      <td>...</td>\n      <td>809.98</td>\n      <td>32.430559</td>\n      <td>23Yearsand0Months</td>\n      <td>No</td>\n      <td>49.574949</td>\n      <td>39.082511</td>\n      <td>High_spent_Medium_value_payments</td>\n      <td>343.826873</td>\n      <td>NaN</td>\n      <td>23.000000</td>\n    </tr>\n    <tr>\n      <th>4</th>\n      <td>4</td>\n      <td>4</td>\n      <td>\\n0x1616</td>\n      <td>CUS_0x21b1</td>\n      <td>September</td>\n      <td>Rick Rothackerj</td>\n      <td>28.0</td>\n      <td>NaN</td>\n      <td>34847.84</td>\n      <td>3037.986667</td>\n      <td>...</td>\n      <td>605.03</td>\n      <td>25.926822</td>\n      <td>27Yearsand3Months</td>\n      <td>No</td>\n      <td>18.816215</td>\n      <td>39.684018</td>\n      <td>High_spent_Large_value_payments</td>\n      <td>485.298434</td>\n      <td>NaN</td>\n      <td>27.250000</td>\n    </tr>\n  </tbody>\n</table>\n<p>5 rows × 30 columns</p>\n</div>"
     },
     "execution_count": 14,
     "metadata": {},
     "output_type": "execute_result"
    }
   ],
   "source": [
    "def convert_to_years_months(duration):\n",
    "    if isinstance(duration, float):\n",
    "        return duration\n",
    "    years = 0\n",
    "    months = 0\n",
    "    if 'Years' in duration:\n",
    "        years = int(duration.split('Years')[0])\n",
    "    if 'Months' in duration:\n",
    "        months = int(duration.split('Months')[0].split('Yearsand')[-1])\n",
    "    return years + months / 12\n",
    "\n",
    "df['Credit_History_Age_float'] = df['Credit_History_Age'].apply(convert_to_years_months)\n",
    "\n",
    "df.head()\n"
   ],
   "metadata": {
    "collapsed": false,
    "ExecuteTime": {
     "end_time": "2023-11-28T14:16:14.700708500Z",
     "start_time": "2023-11-28T14:16:14.521003400Z"
    }
   }
  },
  {
   "cell_type": "code",
   "execution_count": 15,
   "outputs": [
    {
     "data": {
      "text/plain": "count    136500.000000\nmean         18.601277\nstd           8.309962\nmin           0.083333\n25%          12.166667\n50%          18.500000\n75%          25.333333\nmax          34.000000\nName: Credit_History_Age_float, dtype: float64"
     },
     "execution_count": 15,
     "metadata": {},
     "output_type": "execute_result"
    }
   ],
   "source": [
    "df['Credit_History_Age_float'].describe()"
   ],
   "metadata": {
    "collapsed": false,
    "ExecuteTime": {
     "end_time": "2023-11-28T14:17:16.954864Z",
     "start_time": "2023-11-28T14:17:16.876017900Z"
    }
   }
  },
  {
   "cell_type": "code",
   "execution_count": 18,
   "outputs": [
    {
     "data": {
      "text/plain": "<AxesSubplot:>"
     },
     "execution_count": 18,
     "metadata": {},
     "output_type": "execute_result"
    },
    {
     "data": {
      "text/plain": "<Figure size 432x288 with 1 Axes>",
      "image/png": "[encoded data removed]"
     },
     "metadata": {
      "needs_background": "light"
     },
     "output_type": "display_data"
    }
   ],
   "source": [
    "df['Credit_History_Age_float'].plot(kind='box')"
   ],
   "metadata": {
    "collapsed": false,
    "ExecuteTime": {
     "end_time": "2023-11-28T14:20:28.243168700Z",
     "start_time": "2023-11-28T14:20:28.072381400Z"
    }
   }
  },
  {
   "cell_type": "markdown",
   "source": [
    "Total EMI per Month"
   ],
   "metadata": {
    "collapsed": false
   }
  },
  {
   "cell_type": "code",
   "execution_count": null,
   "outputs": [],
   "source": [],
   "metadata": {
    "collapsed": false
   }
  },
  {
   "cell_type": "markdown",
   "source": [
    "Amount invested monthly"
   ],
   "metadata": {
    "collapsed": false
   }
  },
  {
   "cell_type": "code",
   "execution_count": null,
   "outputs": [],
   "source": [],
   "metadata": {
    "collapsed": false
   }
  },
  {
   "cell_type": "markdown",
   "source": [
    "Monthly balance"
   ],
   "metadata": {
    "collapsed": false
   }
  },
  {
   "cell_type": "code",
   "execution_count": null,
   "outputs": [],
   "source": [],
   "metadata": {
    "collapsed": false
   }
  }
 ],
 "metadata": {
  "kernelspec": {
   "display_name": "Python 3",
   "language": "python",
   "name": "python3"
  },
  "language_info": {
   "codemirror_mode": {
    "name": "ipython",
    "version": 2
   },
   "file_extension": ".py",
   "mimetype": "text/x-python",
   "name": "python",
   "nbconvert_exporter": "python",
   "pygments_lexer": "ipython2",
   "version": "2.7.6"
  }
 },
 "nbformat": 4,
 "nbformat_minor": 0
}
