{
 "cells": [
  {
   "cell_type": "code",
   "execution_count": 2,
   "metadata": {
    "collapsed": true,
    "ExecuteTime": {
     "end_time": "2023-11-29T13:09:52.054541200Z",
     "start_time": "2023-11-29T13:09:48.775425300Z"
    }
   },
   "outputs": [],
   "source": [
    "import pandas as pd\n",
    "import regex as re\n",
    "import matplotlib.pyplot as plt\n",
    "import numpy as np"
   ]
  },
  {
   "cell_type": "code",
   "execution_count": 3,
   "outputs": [
    {
     "name": "stderr",
     "output_type": "stream",
     "text": [
      "C:\\Users\\ambra\\anaconda3\\lib\\site-packages\\IPython\\core\\interactiveshell.py:3444: DtypeWarning: Columns (1,28) have mixed types.Specify dtype option on import or set low_memory=False.\n",
      "  exec(code_obj, self.user_global_ns, self.user_ns)\n"
     ]
    },
    {
     "name": "stdout",
     "output_type": "stream",
     "text": [
      "        Unnamed: 0.1        ID Customer_ID      Month    Name Occupation  \\\n",
      "count         150001    150000      150000     150000  135000     139500   \n",
      "unique        150001    150000       12500         12   10139         15   \n",
      "top                0  \\n0x160a   CUS_0xd40  September  Stevex     Lawyer   \n",
      "freq               1         1          12      12500      66       9899   \n",
      "\n",
      "         Type_of_Loan Changed_Credit_Limit Credit_Mix  Credit_History_Age  \\\n",
      "count          132888               150000     120000              136500   \n",
      "unique           6260                 3771          3                 408   \n",
      "top     Not Specified                    _   Standard  17Yearsand11Months   \n",
      "freq             2112                 3150      54858                 628   \n",
      "\n",
      "       Payment_of_Min_Amount               Payment_Behaviour Credit_Score  \n",
      "count                 150000                          138600       100000  \n",
      "unique                     3                               6            3  \n",
      "top                      Yes  Low_spent_Small_value_payments     Standard  \n",
      "freq                   78484                           38207        53174  \n"
     ]
    }
   ],
   "source": [
    "df = pd.read_csv(\"clean_data.csv\")\n",
    "print(df.describe(include='object'))\n"
   ],
   "metadata": {
    "collapsed": false,
    "ExecuteTime": {
     "end_time": "2023-11-29T13:09:55.172996500Z",
     "start_time": "2023-11-29T13:09:52.897772300Z"
    }
   }
  },
  {
   "cell_type": "code",
   "execution_count": null,
   "outputs": [],
   "source": [
    "df.Age.value_counts()"
   ],
   "metadata": {
    "collapsed": false,
    "ExecuteTime": {
     "start_time": "2023-11-29T12:59:40.629973800Z"
    }
   }
  },
  {
   "cell_type": "code",
   "execution_count": null,
   "outputs": [],
   "source": [
    "df.Age.value_counts().plot(kind='bar')"
   ],
   "metadata": {
    "collapsed": false,
    "ExecuteTime": {
     "start_time": "2023-11-29T12:59:40.629973800Z"
    }
   }
  },
  {
   "cell_type": "code",
   "execution_count": null,
   "outputs": [],
   "source": [],
   "metadata": {
    "collapsed": false
   }
  },
  {
   "cell_type": "code",
   "execution_count": null,
   "outputs": [],
   "source": [
    "# get customer id for nan values in Name Column\n",
    "customer_IDs = df[(df['Age'].isna()) | (df['Age'] > 100) | (df['Age'] < 0)]['Customer_ID'].values"
   ],
   "metadata": {
    "collapsed": false,
    "ExecuteTime": {
     "start_time": "2023-11-29T12:59:40.645587500Z"
    }
   }
  },
  {
   "cell_type": "code",
   "execution_count": null,
   "outputs": [],
   "source": [
    "customer_IDs"
   ],
   "metadata": {
    "collapsed": false,
    "ExecuteTime": {
     "start_time": "2023-11-29T12:59:40.645587500Z"
    }
   }
  },
  {
   "cell_type": "code",
   "execution_count": null,
   "outputs": [],
   "source": [
    "# get real age by customer id\n",
    "for id in customer_IDs:\n",
    "    realAge = 0\n",
    "    try:\n",
    "        realAge = df.loc[(df['Customer_ID'] == id) & (df['Age'].notna()) & (df['Age'] < 100) & (df['Age'] > 0)]['Age'].values[-1]\n",
    "    except IndexError:\n",
    "        continue\n",
    "    # fill missing value\n",
    "    df.loc[(df['Customer_ID'] == id) & ((df['Age'].isna()) | (df['Age'] > 100) | (df['Age'] < 0)), ['Age']] = realAge"
   ],
   "metadata": {
    "collapsed": false,
    "ExecuteTime": {
     "start_time": "2023-11-29T12:59:40.645587500Z"
    }
   }
  },
  {
   "cell_type": "code",
   "execution_count": null,
   "outputs": [],
   "source": [
    "df.Age.value_counts().plot(kind='bar')"
   ],
   "metadata": {
    "collapsed": false,
    "ExecuteTime": {
     "start_time": "2023-11-29T12:59:40.645587500Z"
    }
   }
  },
  {
   "cell_type": "code",
   "execution_count": null,
   "outputs": [],
   "source": [
    "df['Annual_Income'].describe()"
   ],
   "metadata": {
    "collapsed": false,
    "ExecuteTime": {
     "start_time": "2023-11-29T12:59:40.655094600Z"
    }
   }
  },
  {
   "cell_type": "code",
   "execution_count": null,
   "outputs": [],
   "source": [
    "df.Annual_Income.plot(kind='line')"
   ],
   "metadata": {
    "collapsed": false,
    "ExecuteTime": {
     "start_time": "2023-11-29T12:59:40.655094600Z"
    }
   }
  },
  {
   "cell_type": "code",
   "execution_count": null,
   "outputs": [],
   "source": [],
   "metadata": {
    "collapsed": false,
    "ExecuteTime": {
     "start_time": "2023-11-29T12:59:40.655094600Z"
    }
   }
  },
  {
   "cell_type": "markdown",
   "source": [
    "Credit History Age"
   ],
   "metadata": {
    "collapsed": false
   }
  },
  {
   "cell_type": "code",
   "execution_count": null,
   "outputs": [],
   "source": [
    "def convert_to_years_months(duration):\n",
    "    if isinstance(duration, float):\n",
    "        return duration\n",
    "    years = 0\n",
    "    months = 0\n",
    "    if 'Years' in duration:\n",
    "        years = int(duration.split('Years')[0])\n",
    "    if 'Months' in duration:\n",
    "        months = int(duration.split('Months')[0].split('Yearsand')[-1])\n",
    "    return years + months / 12\n",
    "\n",
    "df['Credit_History_Age_float'] = df['Credit_History_Age'].apply(convert_to_years_months)\n",
    "\n",
    "df.head()\n"
   ],
   "metadata": {
    "collapsed": false,
    "ExecuteTime": {
     "start_time": "2023-11-29T12:59:40.661609600Z"
    }
   }
  },
  {
   "cell_type": "code",
   "execution_count": null,
   "outputs": [],
   "source": [
    "df['Credit_History_Age_float'].describe()"
   ],
   "metadata": {
    "collapsed": false,
    "ExecuteTime": {
     "start_time": "2023-11-29T12:59:40.661609600Z"
    }
   }
  },
  {
   "cell_type": "code",
   "execution_count": null,
   "outputs": [],
   "source": [
    "df['Credit_History_Age_float'].plot(kind='box')"
   ],
   "metadata": {
    "collapsed": false,
    "ExecuteTime": {
     "start_time": "2023-11-29T12:59:40.661609600Z"
    }
   }
  },
  {
   "cell_type": "markdown",
   "source": [
    "Total EMI per Month"
   ],
   "metadata": {
    "collapsed": false
   }
  },
  {
   "cell_type": "code",
   "execution_count": 4,
   "outputs": [
    {
     "data": {
      "text/plain": "count    150000.000000\nmean       1432.513579\nstd        8403.759977\nmin           0.000000\n25%          30.947775\n50%          71.280006\n75%         166.279555\nmax       82398.000000\nName: Total_EMI_per_month, dtype: float64"
     },
     "execution_count": 4,
     "metadata": {},
     "output_type": "execute_result"
    }
   ],
   "source": [
    "df['Total_EMI_per_month'].describe()"
   ],
   "metadata": {
    "collapsed": false,
    "ExecuteTime": {
     "end_time": "2023-11-29T13:09:59.599540400Z",
     "start_time": "2023-11-29T13:09:59.510678200Z"
    }
   }
  },
  {
   "cell_type": "code",
   "execution_count": 5,
   "outputs": [
    {
     "data": {
      "text/plain": "<AxesSubplot:>"
     },
     "execution_count": 5,
     "metadata": {},
     "output_type": "execute_result"
    },
    {
     "data": {
      "text/plain": "<Figure size 432x288 with 1 Axes>",
      "image/png": "[encoded data removed]"
     },
     "metadata": {
      "needs_background": "light"
     },
     "output_type": "display_data"
    }
   ],
   "source": [
    "df['Total_EMI_per_month'].plot(kind='box')"
   ],
   "metadata": {
    "collapsed": false,
    "ExecuteTime": {
     "end_time": "2023-11-29T13:10:02.681285300Z",
     "start_time": "2023-11-29T13:10:02.341889700Z"
    }
   }
  },
  {
   "cell_type": "markdown",
   "source": [],
   "metadata": {
    "collapsed": false
   }
  },
  {
   "cell_type": "code",
   "execution_count": 6,
   "outputs": [
    {
     "data": {
      "text/plain": "<AxesSubplot:ylabel='Frequency'>"
     },
     "execution_count": 6,
     "metadata": {},
     "output_type": "execute_result"
    },
    {
     "data": {
      "text/plain": "<Figure size 432x288 with 1 Axes>",
      "image/png": "[encoded data removed]"
     },
     "metadata": {
      "needs_background": "light"
     },
     "output_type": "display_data"
    }
   ],
   "source": [
    "df['Total_EMI_per_month'].plot(kind='hist')"
   ],
   "metadata": {
    "collapsed": false,
    "ExecuteTime": {
     "end_time": "2023-11-29T13:10:05.168574900Z",
     "start_time": "2023-11-29T13:10:04.918639400Z"
    }
   }
  },
  {
   "cell_type": "code",
   "execution_count": 12,
   "outputs": [
    {
     "data": {
      "text/plain": "(array([153., 157., 166., 135., 134., 139., 150., 143., 158., 144., 125.,\n        157., 154., 146., 137., 147., 150., 142., 141., 143., 132., 152.,\n        134., 163., 142., 142., 140., 150., 149., 143.]),\n array([ 8029.        , 10507.96666667, 12986.93333333, 15465.9       ,\n        17944.86666667, 20423.83333333, 22902.8       , 25381.76666667,\n        27860.73333333, 30339.7       , 32818.66666667, 35297.63333333,\n        37776.6       , 40255.56666667, 42734.53333333, 45213.5       ,\n        47692.46666667, 50171.43333333, 52650.4       , 55129.36666667,\n        57608.33333333, 60087.3       , 62566.26666667, 65045.23333333,\n        67524.2       , 70003.16666667, 72482.13333333, 74961.1       ,\n        77440.06666667, 79919.03333333, 82398.        ]),\n <BarContainer object of 30 artists>)"
     },
     "execution_count": 12,
     "metadata": {},
     "output_type": "execute_result"
    },
    {
     "data": {
      "text/plain": "<Figure size 432x288 with 1 Axes>",
      "image/png": "[encoded data removed]"
     },
     "metadata": {
      "needs_background": "light"
     },
     "output_type": "display_data"
    }
   ],
   "source": [
    "\n",
    "filtered_df = df[df['Total_EMI_per_month'] > 8000]\n",
    "len(filtered_df)\n",
    "plt.hist(filtered_df['Total_EMI_per_month'], bins= 30)\n",
    "\n"
   ],
   "metadata": {
    "collapsed": false,
    "ExecuteTime": {
     "end_time": "2023-11-29T13:13:06.240311900Z",
     "start_time": "2023-11-29T13:13:05.957189500Z"
    }
   }
  },
  {
   "cell_type": "code",
   "execution_count": 17,
   "outputs": [
    {
     "name": "stdout",
     "output_type": "stream",
     "text": [
      "0         49.574949\n",
      "1         49.574949\n",
      "2         49.574949\n",
      "3         49.574949\n",
      "4         18.816215\n",
      "            ...    \n",
      "149995    35.104023\n",
      "149996    35.104023\n",
      "149997    35.104023\n",
      "149998    35.104023\n",
      "149999    35.104023\n",
      "Name: Total_EMI_per_month, Length: 150000, dtype: object\n",
      "        Unnamed: 0 Unnamed: 0.1         ID Customer_ID      Month  \\\n",
      "0                0            0   \\n0x160a   CUS_0xd40  September   \n",
      "1                1            1   \\n0x160b   CUS_0xd40    October   \n",
      "2                2            2   \\n0x160c   CUS_0xd40   November   \n",
      "3                3            3   \\n0x160d   CUS_0xd40   December   \n",
      "4                4            4   \\n0x1616  CUS_0x21b1  September   \n",
      "...            ...          ...        ...         ...        ...   \n",
      "149995      149995     \\n149995  \\n0x25fe9  CUS_0x942c      April   \n",
      "149996      149996     \\n149996  \\n0x25fea  CUS_0x942c        May   \n",
      "149997      149997     \\n149997  \\n0x25feb  CUS_0x942c       June   \n",
      "149998      149998     \\n149998  \\n0x25fec  CUS_0x942c       July   \n",
      "149999      149999     \\n149999  \\n0x25fed  CUS_0x942c     August   \n",
      "\n",
      "                   Name   Age Occupation  Annual_Income  \\\n",
      "0         Aaron Maashoh  23.0  Scientist       19114.12   \n",
      "1         Aaron Maashoh  24.0  Scientist       19114.12   \n",
      "2         Aaron Maashoh  24.0  Scientist       19114.12   \n",
      "3         Aaron Maashoh   NaN  Scientist       19114.12   \n",
      "4       Rick Rothackerj  28.0        NaN       34847.84   \n",
      "...                 ...   ...        ...            ...   \n",
      "149995            Nicks  25.0   Mechanic       39628.99   \n",
      "149996            Nicks  25.0   Mechanic       39628.99   \n",
      "149997            Nicks  25.0   Mechanic       39628.99   \n",
      "149998            Nicks  25.0   Mechanic       39628.99   \n",
      "149999            Nicks  25.0   Mechanic       39628.99   \n",
      "\n",
      "        Monthly_Inhand_Salary  ...  Credit_Mix  Outstanding_Debt  \\\n",
      "0                 1824.843333  ...        Good            809.98   \n",
      "1                 1824.843333  ...        Good            809.98   \n",
      "2                 1824.843333  ...        Good            809.98   \n",
      "3                 1824.843333  ...        Good            809.98   \n",
      "4                 3037.986667  ...        Good            605.03   \n",
      "...                       ...  ...         ...               ...   \n",
      "149995            3359.415833  ...         NaN            502.38   \n",
      "149996            3359.415833  ...         NaN            502.38   \n",
      "149997            3359.415833  ...        Good            502.38   \n",
      "149998            3359.415833  ...        Good            502.38   \n",
      "149999            3359.415833  ...        Good            502.38   \n",
      "\n",
      "        Credit_Utilization_Ratio  Credit_History_Age Payment_of_Min_Amount  \\\n",
      "0                      35.030402   22Yearsand9Months                    No   \n",
      "1                      33.053114  22Yearsand10Months                    No   \n",
      "2                      33.811894                 NaN                    No   \n",
      "3                      32.430559   23Yearsand0Months                    No   \n",
      "4                      25.926822   27Yearsand3Months                    No   \n",
      "...                          ...                 ...                   ...   \n",
      "149995                 34.663572   31Yearsand6Months                    No   \n",
      "149996                 40.565631   31Yearsand7Months                    No   \n",
      "149997                 41.255522   31Yearsand8Months                    No   \n",
      "149998                 33.638208   31Yearsand9Months                    No   \n",
      "149999                 34.192463  31Yearsand10Months                    No   \n",
      "\n",
      "        Total_EMI_per_month  Amount_invested_monthly  \\\n",
      "0                 49.574949               236.642682   \n",
      "1                 49.574949                21.465380   \n",
      "2                 49.574949               148.233938   \n",
      "3                 49.574949                39.082511   \n",
      "4                 18.816215                39.684018   \n",
      "...                     ...                      ...   \n",
      "149995            35.104023                60.971333   \n",
      "149996            35.104023                54.185950   \n",
      "149997            35.104023                24.028477   \n",
      "149998            35.104023               251.672582   \n",
      "149999            35.104023               167.163865   \n",
      "\n",
      "                       Payment_Behaviour  Monthly_Balance Credit_Score  \n",
      "0         Low_spent_Small_value_payments       186.266702          NaN  \n",
      "1       High_spent_Medium_value_payments       361.444004          NaN  \n",
      "2        Low_spent_Medium_value_payments       264.675446          NaN  \n",
      "3       High_spent_Medium_value_payments       343.826873          NaN  \n",
      "4        High_spent_Large_value_payments       485.298434          NaN  \n",
      "...                                  ...              ...          ...  \n",
      "149995   High_spent_Large_value_payments       479.866228         Poor  \n",
      "149996  High_spent_Medium_value_payments       496.651610         Poor  \n",
      "149997   High_spent_Large_value_payments       516.809083         Poor  \n",
      "149998    Low_spent_Large_value_payments       319.164979     Standard  \n",
      "149999                               NaN       393.673696         Poor  \n",
      "\n",
      "[150000 rows x 29 columns]\n",
      "count    150000.000000\n",
      "mean        112.087769\n",
      "std         141.649157\n",
      "min           0.000000\n",
      "25%          29.784265\n",
      "50%          67.712225\n",
      "75%         151.290071\n",
      "max        1779.103254\n",
      "Name: Total_EMI_per_month, dtype: float64\n"
     ]
    }
   ],
   "source": [
    "\n",
    "def replace_outliers(df, col_name):\n",
    "    def replace_group_outliers(group):\n",
    "        mean = group[col_name].mean()\n",
    "        std = group[col_name].std()\n",
    "        mode = group[col_name].mode()\n",
    "        threshold = 2 * std  # Define your threshold here, based on standard deviation\n",
    "\n",
    "        group.loc[group[col_name] != mode[0], col_name] = pd.NA\n",
    "        return group\n",
    "\n",
    "    return df.groupby('Customer_ID').apply(replace_group_outliers)\n",
    "\n",
    "\n",
    "\n",
    "df = replace_outliers(df, 'Total_EMI_per_month')\n",
    "print(df['Total_EMI_per_month'])\n",
    "\n",
    "def fill_group(group, col_name):\n",
    "    mode = group[col_name].mode()\n",
    "\n",
    "    # Replace outliers with mode\n",
    "    group[col_name] = group[col_name].fillna(mode[0])\n",
    "\n",
    "    return group\n",
    "\n",
    "# Function to fill missing values and handle outliers\n",
    "def fill_missing_values(df, col_name):\n",
    "    grouped = df.groupby('Customer_ID')\n",
    "    filled_df = grouped.apply(fill_group, col_name=col_name)\n",
    "    return filled_df\n",
    "\n",
    "\n",
    "df = fill_missing_values(df, 'Total_EMI_per_month')\n",
    "\n",
    "print(df)\n",
    "print(df['Total_EMI_per_month'].describe())"
   ],
   "metadata": {
    "collapsed": false,
    "ExecuteTime": {
     "end_time": "2023-11-29T13:19:55.748561400Z",
     "start_time": "2023-11-29T13:19:18.839283100Z"
    }
   }
  },
  {
   "cell_type": "code",
   "execution_count": 18,
   "outputs": [
    {
     "data": {
      "text/plain": "        Unnamed: 0 Unnamed: 0.1         ID Customer_ID      Month  \\\n0                0            0   \\n0x160a   CUS_0xd40  September   \n1                1            1   \\n0x160b   CUS_0xd40    October   \n2                2            2   \\n0x160c   CUS_0xd40   November   \n3                3            3   \\n0x160d   CUS_0xd40   December   \n4                4            4   \\n0x1616  CUS_0x21b1  September   \n...            ...          ...        ...         ...        ...   \n149995      149995     \\n149995  \\n0x25fe9  CUS_0x942c      April   \n149996      149996     \\n149996  \\n0x25fea  CUS_0x942c        May   \n149997      149997     \\n149997  \\n0x25feb  CUS_0x942c       June   \n149998      149998     \\n149998  \\n0x25fec  CUS_0x942c       July   \n149999      149999     \\n149999  \\n0x25fed  CUS_0x942c     August   \n\n                   Name   Age Occupation  Annual_Income  \\\n0         Aaron Maashoh  23.0  Scientist       19114.12   \n1         Aaron Maashoh  24.0  Scientist       19114.12   \n2         Aaron Maashoh  24.0  Scientist       19114.12   \n3         Aaron Maashoh   NaN  Scientist       19114.12   \n4       Rick Rothackerj  28.0        NaN       34847.84   \n...                 ...   ...        ...            ...   \n149995            Nicks  25.0   Mechanic       39628.99   \n149996            Nicks  25.0   Mechanic       39628.99   \n149997            Nicks  25.0   Mechanic       39628.99   \n149998            Nicks  25.0   Mechanic       39628.99   \n149999            Nicks  25.0   Mechanic       39628.99   \n\n        Monthly_Inhand_Salary  ...  Credit_Mix  Outstanding_Debt  \\\n0                 1824.843333  ...        Good            809.98   \n1                 1824.843333  ...        Good            809.98   \n2                 1824.843333  ...        Good            809.98   \n3                 1824.843333  ...        Good            809.98   \n4                 3037.986667  ...        Good            605.03   \n...                       ...  ...         ...               ...   \n149995            3359.415833  ...         NaN            502.38   \n149996            3359.415833  ...         NaN            502.38   \n149997            3359.415833  ...        Good            502.38   \n149998            3359.415833  ...        Good            502.38   \n149999            3359.415833  ...        Good            502.38   \n\n        Credit_Utilization_Ratio  Credit_History_Age Payment_of_Min_Amount  \\\n0                      35.030402   22Yearsand9Months                    No   \n1                      33.053114  22Yearsand10Months                    No   \n2                      33.811894                 NaN                    No   \n3                      32.430559   23Yearsand0Months                    No   \n4                      25.926822   27Yearsand3Months                    No   \n...                          ...                 ...                   ...   \n149995                 34.663572   31Yearsand6Months                    No   \n149996                 40.565631   31Yearsand7Months                    No   \n149997                 41.255522   31Yearsand8Months                    No   \n149998                 33.638208   31Yearsand9Months                    No   \n149999                 34.192463  31Yearsand10Months                    No   \n\n        Total_EMI_per_month  Amount_invested_monthly  \\\n0                 49.574949               236.642682   \n1                 49.574949                21.465380   \n2                 49.574949               148.233938   \n3                 49.574949                39.082511   \n4                 18.816215                39.684018   \n...                     ...                      ...   \n149995            35.104023                60.971333   \n149996            35.104023                54.185950   \n149997            35.104023                24.028477   \n149998            35.104023               251.672582   \n149999            35.104023               167.163865   \n\n                       Payment_Behaviour  Monthly_Balance Credit_Score  \n0         Low_spent_Small_value_payments       186.266702          NaN  \n1       High_spent_Medium_value_payments       361.444004          NaN  \n2        Low_spent_Medium_value_payments       264.675446          NaN  \n3       High_spent_Medium_value_payments       343.826873          NaN  \n4        High_spent_Large_value_payments       485.298434          NaN  \n...                                  ...              ...          ...  \n149995   High_spent_Large_value_payments       479.866228         Poor  \n149996  High_spent_Medium_value_payments       496.651610         Poor  \n149997   High_spent_Large_value_payments       516.809083         Poor  \n149998    Low_spent_Large_value_payments       319.164979     Standard  \n149999                               NaN       393.673696         Poor  \n\n[150000 rows x 29 columns]",
      "text/html": "<div>\n<style scoped>\n    .dataframe tbody tr th:only-of-type {\n        vertical-align: middle;\n    }\n\n    .dataframe tbody tr th {\n        vertical-align: top;\n    }\n\n    .dataframe thead th {\n        text-align: right;\n    }\n</style>\n<table border=\"1\" class=\"dataframe\">\n  <thead>\n    <tr style=\"text-align: right;\">\n      <th></th>\n      <th>Unnamed: 0</th>\n      <th>Unnamed: 0.1</th>\n      <th>ID</th>\n      <th>Customer_ID</th>\n      <th>Month</th>\n      <th>Name</th>\n      <th>Age</th>\n      <th>Occupation</th>\n      <th>Annual_Income</th>\n      <th>Monthly_Inhand_Salary</th>\n      <th>...</th>\n      <th>Credit_Mix</th>\n      <th>Outstanding_Debt</th>\n      <th>Credit_Utilization_Ratio</th>\n      <th>Credit_History_Age</th>\n      <th>Payment_of_Min_Amount</th>\n      <th>Total_EMI_per_month</th>\n      <th>Amount_invested_monthly</th>\n      <th>Payment_Behaviour</th>\n      <th>Monthly_Balance</th>\n      <th>Credit_Score</th>\n    </tr>\n  </thead>\n  <tbody>\n    <tr>\n      <th>0</th>\n      <td>0</td>\n      <td>0</td>\n      <td>\\n0x160a</td>\n      <td>CUS_0xd40</td>\n      <td>September</td>\n      <td>Aaron Maashoh</td>\n      <td>23.0</td>\n      <td>Scientist</td>\n      <td>19114.12</td>\n      <td>1824.843333</td>\n      <td>...</td>\n      <td>Good</td>\n      <td>809.98</td>\n      <td>35.030402</td>\n      <td>22Yearsand9Months</td>\n      <td>No</td>\n      <td>49.574949</td>\n      <td>236.642682</td>\n      <td>Low_spent_Small_value_payments</td>\n      <td>186.266702</td>\n      <td>NaN</td>\n    </tr>\n    <tr>\n      <th>1</th>\n      <td>1</td>\n      <td>1</td>\n      <td>\\n0x160b</td>\n      <td>CUS_0xd40</td>\n      <td>October</td>\n      <td>Aaron Maashoh</td>\n      <td>24.0</td>\n      <td>Scientist</td>\n      <td>19114.12</td>\n      <td>1824.843333</td>\n      <td>...</td>\n      <td>Good</td>\n      <td>809.98</td>\n      <td>33.053114</td>\n      <td>22Yearsand10Months</td>\n      <td>No</td>\n      <td>49.574949</td>\n      <td>21.465380</td>\n      <td>High_spent_Medium_value_payments</td>\n      <td>361.444004</td>\n      <td>NaN</td>\n    </tr>\n    <tr>\n      <th>2</th>\n      <td>2</td>\n      <td>2</td>\n      <td>\\n0x160c</td>\n      <td>CUS_0xd40</td>\n      <td>November</td>\n      <td>Aaron Maashoh</td>\n      <td>24.0</td>\n      <td>Scientist</td>\n      <td>19114.12</td>\n      <td>1824.843333</td>\n      <td>...</td>\n      <td>Good</td>\n      <td>809.98</td>\n      <td>33.811894</td>\n      <td>NaN</td>\n      <td>No</td>\n      <td>49.574949</td>\n      <td>148.233938</td>\n      <td>Low_spent_Medium_value_payments</td>\n      <td>264.675446</td>\n      <td>NaN</td>\n    </tr>\n    <tr>\n      <th>3</th>\n      <td>3</td>\n      <td>3</td>\n      <td>\\n0x160d</td>\n      <td>CUS_0xd40</td>\n      <td>December</td>\n      <td>Aaron Maashoh</td>\n      <td>NaN</td>\n      <td>Scientist</td>\n      <td>19114.12</td>\n      <td>1824.843333</td>\n      <td>...</td>\n      <td>Good</td>\n      <td>809.98</td>\n      <td>32.430559</td>\n      <td>23Yearsand0Months</td>\n      <td>No</td>\n      <td>49.574949</td>\n      <td>39.082511</td>\n      <td>High_spent_Medium_value_payments</td>\n      <td>343.826873</td>\n      <td>NaN</td>\n    </tr>\n    <tr>\n      <th>4</th>\n      <td>4</td>\n      <td>4</td>\n      <td>\\n0x1616</td>\n      <td>CUS_0x21b1</td>\n      <td>September</td>\n      <td>Rick Rothackerj</td>\n      <td>28.0</td>\n      <td>NaN</td>\n      <td>34847.84</td>\n      <td>3037.986667</td>\n      <td>...</td>\n      <td>Good</td>\n      <td>605.03</td>\n      <td>25.926822</td>\n      <td>27Yearsand3Months</td>\n      <td>No</td>\n      <td>18.816215</td>\n      <td>39.684018</td>\n      <td>High_spent_Large_value_payments</td>\n      <td>485.298434</td>\n      <td>NaN</td>\n    </tr>\n    <tr>\n      <th>...</th>\n      <td>...</td>\n      <td>...</td>\n      <td>...</td>\n      <td>...</td>\n      <td>...</td>\n      <td>...</td>\n      <td>...</td>\n      <td>...</td>\n      <td>...</td>\n      <td>...</td>\n      <td>...</td>\n      <td>...</td>\n      <td>...</td>\n      <td>...</td>\n      <td>...</td>\n      <td>...</td>\n      <td>...</td>\n      <td>...</td>\n      <td>...</td>\n      <td>...</td>\n      <td>...</td>\n    </tr>\n    <tr>\n      <th>149995</th>\n      <td>149995</td>\n      <td>\\n149995</td>\n      <td>\\n0x25fe9</td>\n      <td>CUS_0x942c</td>\n      <td>April</td>\n      <td>Nicks</td>\n      <td>25.0</td>\n      <td>Mechanic</td>\n      <td>39628.99</td>\n      <td>3359.415833</td>\n      <td>...</td>\n      <td>NaN</td>\n      <td>502.38</td>\n      <td>34.663572</td>\n      <td>31Yearsand6Months</td>\n      <td>No</td>\n      <td>35.104023</td>\n      <td>60.971333</td>\n      <td>High_spent_Large_value_payments</td>\n      <td>479.866228</td>\n      <td>Poor</td>\n    </tr>\n    <tr>\n      <th>149996</th>\n      <td>149996</td>\n      <td>\\n149996</td>\n      <td>\\n0x25fea</td>\n      <td>CUS_0x942c</td>\n      <td>May</td>\n      <td>Nicks</td>\n      <td>25.0</td>\n      <td>Mechanic</td>\n      <td>39628.99</td>\n      <td>3359.415833</td>\n      <td>...</td>\n      <td>NaN</td>\n      <td>502.38</td>\n      <td>40.565631</td>\n      <td>31Yearsand7Months</td>\n      <td>No</td>\n      <td>35.104023</td>\n      <td>54.185950</td>\n      <td>High_spent_Medium_value_payments</td>\n      <td>496.651610</td>\n      <td>Poor</td>\n    </tr>\n    <tr>\n      <th>149997</th>\n      <td>149997</td>\n      <td>\\n149997</td>\n      <td>\\n0x25feb</td>\n      <td>CUS_0x942c</td>\n      <td>June</td>\n      <td>Nicks</td>\n      <td>25.0</td>\n      <td>Mechanic</td>\n      <td>39628.99</td>\n      <td>3359.415833</td>\n      <td>...</td>\n      <td>Good</td>\n      <td>502.38</td>\n      <td>41.255522</td>\n      <td>31Yearsand8Months</td>\n      <td>No</td>\n      <td>35.104023</td>\n      <td>24.028477</td>\n      <td>High_spent_Large_value_payments</td>\n      <td>516.809083</td>\n      <td>Poor</td>\n    </tr>\n    <tr>\n      <th>149998</th>\n      <td>149998</td>\n      <td>\\n149998</td>\n      <td>\\n0x25fec</td>\n      <td>CUS_0x942c</td>\n      <td>July</td>\n      <td>Nicks</td>\n      <td>25.0</td>\n      <td>Mechanic</td>\n      <td>39628.99</td>\n      <td>3359.415833</td>\n      <td>...</td>\n      <td>Good</td>\n      <td>502.38</td>\n      <td>33.638208</td>\n      <td>31Yearsand9Months</td>\n      <td>No</td>\n      <td>35.104023</td>\n      <td>251.672582</td>\n      <td>Low_spent_Large_value_payments</td>\n      <td>319.164979</td>\n      <td>Standard</td>\n    </tr>\n    <tr>\n      <th>149999</th>\n      <td>149999</td>\n      <td>\\n149999</td>\n      <td>\\n0x25fed</td>\n      <td>CUS_0x942c</td>\n      <td>August</td>\n      <td>Nicks</td>\n      <td>25.0</td>\n      <td>Mechanic</td>\n      <td>39628.99</td>\n      <td>3359.415833</td>\n      <td>...</td>\n      <td>Good</td>\n      <td>502.38</td>\n      <td>34.192463</td>\n      <td>31Yearsand10Months</td>\n      <td>No</td>\n      <td>35.104023</td>\n      <td>167.163865</td>\n      <td>NaN</td>\n      <td>393.673696</td>\n      <td>Poor</td>\n    </tr>\n  </tbody>\n</table>\n<p>150000 rows × 29 columns</p>\n</div>"
     },
     "execution_count": 18,
     "metadata": {},
     "output_type": "execute_result"
    }
   ],
   "source": [
    "df"
   ],
   "metadata": {
    "collapsed": false,
    "ExecuteTime": {
     "end_time": "2023-11-29T13:19:55.962967400Z",
     "start_time": "2023-11-29T13:19:55.830079900Z"
    }
   }
  },
  {
   "cell_type": "code",
   "execution_count": 19,
   "outputs": [
    {
     "data": {
      "text/plain": "count    150000.000000\nmean        112.087769\nstd         141.649157\nmin           0.000000\n25%          29.784265\n50%          67.712225\n75%         151.290071\nmax        1779.103254\nName: Total_EMI_per_month, dtype: float64"
     },
     "execution_count": 19,
     "metadata": {},
     "output_type": "execute_result"
    }
   ],
   "source": [
    "df['Total_EMI_per_month'].describe()"
   ],
   "metadata": {
    "collapsed": false,
    "ExecuteTime": {
     "end_time": "2023-11-29T13:19:55.964217300Z",
     "start_time": "2023-11-29T13:19:55.940667100Z"
    }
   }
  },
  {
   "cell_type": "code",
   "execution_count": 20,
   "outputs": [
    {
     "data": {
      "text/plain": "0.000000      16176\n49.574949        12\n250.108999       12\n10.516560        12\n303.291740       12\n              ...  \n123.097440       12\n80.576532        12\n56.747677        12\n39.628117        12\n35.104023        12\nName: Total_EMI_per_month, Length: 11153, dtype: int64"
     },
     "execution_count": 20,
     "metadata": {},
     "output_type": "execute_result"
    }
   ],
   "source": [
    "\n",
    "filtered_df = df[df['Total_EMI_per_month'] > 500]\n",
    "len(filtered_df)\n",
    "df.Total_EMI_per_month.value_counts()\n",
    "#plt.hist(filtered_df['Total_EMI_per_month'], bins= 30)\n",
    "\n"
   ],
   "metadata": {
    "collapsed": false,
    "ExecuteTime": {
     "end_time": "2023-11-29T13:19:56.047100200Z",
     "start_time": "2023-11-29T13:19:55.956753400Z"
    }
   }
  },
  {
   "cell_type": "code",
   "execution_count": null,
   "outputs": [],
   "source": [
    "df['Total_EMI_per_month'].plot(kind='box')\n"
   ],
   "metadata": {
    "collapsed": false,
    "ExecuteTime": {
     "start_time": "2023-11-29T12:59:40.677389100Z"
    }
   }
  },
  {
   "cell_type": "markdown",
   "source": [
    "Amount invested monthly"
   ],
   "metadata": {
    "collapsed": false
   }
  },
  {
   "cell_type": "code",
   "execution_count": 21,
   "outputs": [
    {
     "data": {
      "text/plain": "10000.000000    6480\n0.000000         275\n236.642682         1\n76.016863          1\n70.783724          1\n                ... \n42.635590          1\n348.509399         1\n235.790325         1\n177.951836         1\n167.163865         1\nName: Amount_invested_monthly, Length: 136497, dtype: int64"
     },
     "execution_count": 21,
     "metadata": {},
     "output_type": "execute_result"
    }
   ],
   "source": [
    "df.Amount_invested_monthly.value_counts()"
   ],
   "metadata": {
    "collapsed": false,
    "ExecuteTime": {
     "end_time": "2023-11-29T13:21:39.908858800Z",
     "start_time": "2023-11-29T13:21:39.877117700Z"
    }
   }
  },
  {
   "cell_type": "code",
   "execution_count": 23,
   "outputs": [
    {
     "data": {
      "text/plain": "(array([1.15532e+05, 1.58240e+04, 4.09700e+03, 1.05800e+03, 2.18000e+02,\n        4.10000e+01, 0.00000e+00, 0.00000e+00, 0.00000e+00, 0.00000e+00,\n        0.00000e+00, 0.00000e+00, 0.00000e+00, 0.00000e+00, 0.00000e+00,\n        0.00000e+00, 0.00000e+00, 0.00000e+00, 0.00000e+00, 0.00000e+00,\n        0.00000e+00, 0.00000e+00, 0.00000e+00, 0.00000e+00, 0.00000e+00,\n        0.00000e+00, 0.00000e+00, 0.00000e+00, 0.00000e+00, 6.48000e+03]),\n array([    0.        ,   333.33333333,   666.66666667,  1000.        ,\n         1333.33333333,  1666.66666667,  2000.        ,  2333.33333333,\n         2666.66666667,  3000.        ,  3333.33333333,  3666.66666667,\n         4000.        ,  4333.33333333,  4666.66666667,  5000.        ,\n         5333.33333333,  5666.66666667,  6000.        ,  6333.33333333,\n         6666.66666667,  7000.        ,  7333.33333333,  7666.66666667,\n         8000.        ,  8333.33333333,  8666.66666667,  9000.        ,\n         9333.33333333,  9666.66666667, 10000.        ]),\n <BarContainer object of 30 artists>)"
     },
     "execution_count": 23,
     "metadata": {},
     "output_type": "execute_result"
    },
    {
     "data": {
      "text/plain": "<Figure size 432x288 with 1 Axes>",
      "image/png": "[encoded data removed]"
     },
     "metadata": {
      "needs_background": "light"
     },
     "output_type": "display_data"
    }
   ],
   "source": [
    "plt.hist(df['Amount_invested_monthly'], bins= 30)\n"
   ],
   "metadata": {
    "collapsed": false,
    "ExecuteTime": {
     "end_time": "2023-11-29T13:25:03.995312200Z",
     "start_time": "2023-11-29T13:25:03.785312400Z"
    }
   }
  },
  {
   "cell_type": "code",
   "execution_count": 24,
   "outputs": [
    {
     "data": {
      "text/plain": "count    143250.000000\nmean        638.826309\nstd        2046.843019\nmin           0.000000\n25%          74.533842\n50%         135.791445\n75%         266.110841\nmax       10000.000000\nName: Amount_invested_monthly, dtype: float64"
     },
     "execution_count": 24,
     "metadata": {},
     "output_type": "execute_result"
    }
   ],
   "source": [
    "df['Amount_invested_monthly'].describe()"
   ],
   "metadata": {
    "collapsed": false,
    "ExecuteTime": {
     "end_time": "2023-11-29T13:26:39.837221700Z",
     "start_time": "2023-11-29T13:26:39.805437200Z"
    }
   }
  },
  {
   "cell_type": "markdown",
   "source": [
    "I don t think it s outside the realm of possibility for them to invest 10000 a month if they re really rich but now it depends what everyone else thinks as well"
   ],
   "metadata": {
    "collapsed": false
   }
  },
  {
   "cell_type": "markdown",
   "source": [
    "Monthly balance"
   ],
   "metadata": {
    "collapsed": false
   }
  },
  {
   "cell_type": "code",
   "execution_count": 26,
   "outputs": [
    {
     "data": {
      "text/plain": "count    1.482380e+05\nmean     3.372954e+22\nstd      3.352927e+24\nmin      7.759665e-03\n25%      2.702471e+02\n50%      3.368237e+02\n75%      4.705163e+02\nmax      3.333333e+26\nName: Monthly_Balance, dtype: float64"
     },
     "execution_count": 26,
     "metadata": {},
     "output_type": "execute_result"
    }
   ],
   "source": [
    "df['Monthly_Balance'].describe()"
   ],
   "metadata": {
    "collapsed": false,
    "ExecuteTime": {
     "end_time": "2023-11-29T13:30:59.425746900Z",
     "start_time": "2023-11-29T13:30:59.386397700Z"
    }
   }
  },
  {
   "cell_type": "code",
   "execution_count": 30,
   "outputs": [
    {
     "data": {
      "text/plain": "<AxesSubplot:>"
     },
     "execution_count": 30,
     "metadata": {},
     "output_type": "execute_result"
    },
    {
     "data": {
      "text/plain": "<Figure size 432x288 with 1 Axes>",
      "image/png": "[encoded data removed]"
     },
     "metadata": {
      "needs_background": "light"
     },
     "output_type": "display_data"
    }
   ],
   "source": [
    "filtered_df = df[df['Monthly_Balance'] < 3.333333e+26]\n",
    "filtered_df['Monthly_Balance'].plot(kind= 'box')"
   ],
   "metadata": {
    "collapsed": false,
    "ExecuteTime": {
     "end_time": "2023-11-29T13:33:33.164182300Z",
     "start_time": "2023-11-29T13:33:32.991670900Z"
    }
   }
  },
  {
   "cell_type": "code",
   "execution_count": 31,
   "outputs": [
    {
     "data": {
      "text/plain": "count    148223.000000\nmean        402.723009\nstd         213.844776\nmin           0.007760\n25%         270.241882\n50%         336.815865\n75%         470.477895\nmax        1606.518192\nName: Monthly_Balance, dtype: float64"
     },
     "execution_count": 31,
     "metadata": {},
     "output_type": "execute_result"
    }
   ],
   "source": [
    "filtered_df['Monthly_Balance'].describe()"
   ],
   "metadata": {
    "collapsed": false,
    "ExecuteTime": {
     "end_time": "2023-11-29T13:34:36.184653300Z",
     "start_time": "2023-11-29T13:34:36.156694900Z"
    }
   }
  },
  {
   "cell_type": "code",
   "execution_count": null,
   "outputs": [],
   "source": [],
   "metadata": {
    "collapsed": false
   }
  }
 ],
 "metadata": {
  "kernelspec": {
   "display_name": "Python 3",
   "language": "python",
   "name": "python3"
  },
  "language_info": {
   "codemirror_mode": {
    "name": "ipython",
    "version": 2
   },
   "file_extension": ".py",
   "mimetype": "text/x-python",
   "name": "python",
   "nbconvert_exporter": "python",
   "pygments_lexer": "ipython2",
   "version": "2.7.6"
  }
 },
 "nbformat": 4,
 "nbformat_minor": 0
}
