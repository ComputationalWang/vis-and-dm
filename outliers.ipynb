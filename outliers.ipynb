{
 "cells": [
  {
   "cell_type": "code",
   "execution_count": 1,
   "metadata": {
    "collapsed": true,
    "ExecuteTime": {
     "end_time": "2023-11-28T15:38:25.232525500Z",
     "start_time": "2023-11-28T15:38:23.573487100Z"
    }
   },
   "outputs": [],
   "source": [
    "import pandas as pd\n",
    "import regex as re\n",
    "import matplotlib.pyplot as plt\n",
    "import numpy as np"
   ]
  },
  {
   "cell_type": "code",
   "execution_count": 6,
   "outputs": [
    {
     "name": "stderr",
     "output_type": "stream",
     "text": [
      "C:\\Users\\ambra\\anaconda3\\lib\\site-packages\\IPython\\core\\interactiveshell.py:3444: DtypeWarning: Columns (1,28) have mixed types.Specify dtype option on import or set low_memory=False.\n",
      "  exec(code_obj, self.user_global_ns, self.user_ns)\n"
     ]
    },
    {
     "name": "stdout",
     "output_type": "stream",
     "text": [
      "        Unnamed: 0.1        ID Customer_ID      Month    Name Occupation  \\\n",
      "count         150001    150000      150000     150000  135000     139500   \n",
      "unique        150001    150000       12500         12   10139         15   \n",
      "top                0  \\n0x160a   CUS_0xd40  September  Stevex     Lawyer   \n",
      "freq               1         1          12      12500      66       9899   \n",
      "\n",
      "         Type_of_Loan Changed_Credit_Limit Credit_Mix  Credit_History_Age  \\\n",
      "count          132888               150000     120000              136500   \n",
      "unique           6260                 3771          3                 408   \n",
      "top     Not Specified                    _   Standard  17Yearsand11Months   \n",
      "freq             2112                 3150      54858                 628   \n",
      "\n",
      "       Payment_of_Min_Amount               Payment_Behaviour Credit_Score  \n",
      "count                 150000                          138600       100000  \n",
      "unique                     3                               6            3  \n",
      "top                      Yes  Low_spent_Small_value_payments     Standard  \n",
      "freq                   78484                           38207        53174  \n"
     ]
    }
   ],
   "source": [
    "df = pd.read_csv(\"clean_data.csv\")\n",
    "print(df.describe(include='object'))\n"
   ],
   "metadata": {
    "collapsed": false,
    "ExecuteTime": {
     "end_time": "2023-11-28T15:41:20.695963800Z",
     "start_time": "2023-11-28T15:41:19.181643900Z"
    }
   }
  },
  {
   "cell_type": "code",
   "execution_count": 8,
   "outputs": [
    {
     "data": {
      "text/plain": "39.0      4198\n32.0      4189\n28.0      4173\n26.0      4140\n35.0      4130\n          ... \n5795.0       1\n2744.0       1\n6452.0       1\n5112.0       1\n2263.0       1\nName: Age, Length: 2355, dtype: int64"
     },
     "execution_count": 8,
     "metadata": {},
     "output_type": "execute_result"
    }
   ],
   "source": [
    "df.Age.value_counts()"
   ],
   "metadata": {
    "collapsed": false,
    "ExecuteTime": {
     "end_time": "2023-11-28T15:33:31.092231800Z",
     "start_time": "2023-11-28T15:33:31.020365Z"
    }
   }
  },
  {
   "cell_type": "code",
   "execution_count": 9,
   "outputs": [
    {
     "data": {
      "text/plain": "<AxesSubplot:>"
     },
     "execution_count": 9,
     "metadata": {},
     "output_type": "execute_result"
    },
    {
     "data": {
      "text/plain": "<Figure size 432x288 with 1 Axes>",
      "image/png": "[encoded data removed]"
     },
     "metadata": {
      "needs_background": "light"
     },
     "output_type": "display_data"
    }
   ],
   "source": [
    "df.Age.value_counts().plot(kind='bar')"
   ],
   "metadata": {
    "collapsed": false,
    "ExecuteTime": {
     "end_time": "2023-11-28T15:34:02.971316900Z",
     "start_time": "2023-11-28T15:33:31.050036300Z"
    }
   }
  },
  {
   "cell_type": "code",
   "execution_count": 10,
   "outputs": [],
   "source": [
    "# get customer id for nan values in Name Column\n",
    "customer_IDs = df[(df['Age'].isna()) | (df['Age'] > 100) | (df['Age'] < 0)]['Customer_ID'].values"
   ],
   "metadata": {
    "collapsed": false,
    "ExecuteTime": {
     "end_time": "2023-11-28T15:34:03.049556700Z",
     "start_time": "2023-11-28T15:34:02.962292800Z"
    }
   }
  },
  {
   "cell_type": "code",
   "execution_count": 11,
   "outputs": [
    {
     "data": {
      "text/plain": "array(['CUS_0xd40', 'CUS_0x95ee', 'CUS_0x4157', ..., 'CUS_0xf16',\n       'CUS_0x8600', nan], dtype=object)"
     },
     "execution_count": 11,
     "metadata": {},
     "output_type": "execute_result"
    }
   ],
   "source": [
    "customer_IDs"
   ],
   "metadata": {
    "collapsed": false,
    "ExecuteTime": {
     "end_time": "2023-11-28T15:34:03.049556700Z",
     "start_time": "2023-11-28T15:34:02.987052300Z"
    }
   }
  },
  {
   "cell_type": "code",
   "execution_count": null,
   "outputs": [],
   "source": [
    "# get real age by customer id\n",
    "for id in customer_IDs:\n",
    "    realAge = 0\n",
    "    try:\n",
    "        realAge = df.loc[(df['Customer_ID'] == id) & (df['Age'].notna()) & (df['Age'] < 100) & (df['Age'] > 0)]['Age'].values[-1]\n",
    "    except IndexError:\n",
    "        continue\n",
    "    # fill missing value\n",
    "    df.loc[(df['Customer_ID'] == id) & ((df['Age'].isna()) | (df['Age'] > 100) | (df['Age'] < 0)), ['Age']] = realAge"
   ],
   "metadata": {
    "collapsed": false,
    "ExecuteTime": {
     "start_time": "2023-11-28T15:34:03.003646500Z"
    }
   }
  },
  {
   "cell_type": "code",
   "execution_count": null,
   "outputs": [],
   "source": [
    "df.Age.value_counts().plot(kind='bar')"
   ],
   "metadata": {
    "collapsed": false
   }
  },
  {
   "cell_type": "code",
   "execution_count": null,
   "outputs": [],
   "source": [
    "df['Annual_Income'].describe()"
   ],
   "metadata": {
    "collapsed": false
   }
  },
  {
   "cell_type": "code",
   "execution_count": null,
   "outputs": [],
   "source": [
    "df.Annual_Income.plot(kind='line')"
   ],
   "metadata": {
    "collapsed": false
   }
  },
  {
   "cell_type": "code",
   "execution_count": null,
   "outputs": [],
   "source": [],
   "metadata": {
    "collapsed": false
   }
  },
  {
   "cell_type": "markdown",
   "source": [
    "Credit History Age"
   ],
   "metadata": {
    "collapsed": false
   }
  },
  {
   "cell_type": "code",
   "execution_count": null,
   "outputs": [],
   "source": [
    "def convert_to_years_months(duration):\n",
    "    if isinstance(duration, float):\n",
    "        return duration\n",
    "    years = 0\n",
    "    months = 0\n",
    "    if 'Years' in duration:\n",
    "        years = int(duration.split('Years')[0])\n",
    "    if 'Months' in duration:\n",
    "        months = int(duration.split('Months')[0].split('Yearsand')[-1])\n",
    "    return years + months / 12\n",
    "\n",
    "df['Credit_History_Age_float'] = df['Credit_History_Age'].apply(convert_to_years_months)\n",
    "\n",
    "df.head()\n"
   ],
   "metadata": {
    "collapsed": false
   }
  },
  {
   "cell_type": "code",
   "execution_count": null,
   "outputs": [],
   "source": [
    "df['Credit_History_Age_float'].describe()"
   ],
   "metadata": {
    "collapsed": false
   }
  },
  {
   "cell_type": "code",
   "execution_count": null,
   "outputs": [],
   "source": [
    "df['Credit_History_Age_float'].plot(kind='box')"
   ],
   "metadata": {
    "collapsed": false
   }
  },
  {
   "cell_type": "markdown",
   "source": [
    "Total EMI per Month"
   ],
   "metadata": {
    "collapsed": false
   }
  },
  {
   "cell_type": "code",
   "execution_count": null,
   "outputs": [],
   "source": [
    "df['Total_EMI_per_month'].describe()"
   ],
   "metadata": {
    "collapsed": false
   }
  },
  {
   "cell_type": "code",
   "execution_count": null,
   "outputs": [],
   "source": [
    "df['Total_EMI_per_month'].plot(kind='box')"
   ],
   "metadata": {
    "collapsed": false
   }
  },
  {
   "cell_type": "markdown",
   "source": [],
   "metadata": {
    "collapsed": false
   }
  },
  {
   "cell_type": "code",
   "execution_count": null,
   "outputs": [],
   "source": [
    "df['Total_EMI_per_month'].plot(kind='hist')"
   ],
   "metadata": {
    "collapsed": false
   }
  },
  {
   "cell_type": "code",
   "execution_count": 11,
   "outputs": [
    {
     "name": "stdout",
     "output_type": "stream",
     "text": [
      "0         49.574949\n",
      "1         49.574949\n",
      "2         49.574949\n",
      "3         49.574949\n",
      "4         18.816215\n",
      "            ...    \n",
      "149995    35.104023\n",
      "149996    35.104023\n",
      "149997    35.104023\n",
      "149998    35.104023\n",
      "149999    35.104023\n",
      "Name: Total_EMI_per_month, Length: 150000, dtype: object\n",
      "        Unnamed: 0 Unnamed: 0.1         ID Customer_ID      Month  \\\n",
      "0                0            0   \\n0x160a   CUS_0xd40  September   \n",
      "1                1            1   \\n0x160b   CUS_0xd40    October   \n",
      "2                2            2   \\n0x160c   CUS_0xd40   November   \n",
      "3                3            3   \\n0x160d   CUS_0xd40   December   \n",
      "4                4            4   \\n0x1616  CUS_0x21b1  September   \n",
      "...            ...          ...        ...         ...        ...   \n",
      "149995      149995     \\n149995  \\n0x25fe9  CUS_0x942c      April   \n",
      "149996      149996     \\n149996  \\n0x25fea  CUS_0x942c        May   \n",
      "149997      149997     \\n149997  \\n0x25feb  CUS_0x942c       June   \n",
      "149998      149998     \\n149998  \\n0x25fec  CUS_0x942c       July   \n",
      "149999      149999     \\n149999  \\n0x25fed  CUS_0x942c     August   \n",
      "\n",
      "                   Name   Age Occupation  Annual_Income  \\\n",
      "0         Aaron Maashoh  23.0  Scientist       19114.12   \n",
      "1         Aaron Maashoh  24.0  Scientist       19114.12   \n",
      "2         Aaron Maashoh  24.0  Scientist       19114.12   \n",
      "3         Aaron Maashoh   NaN  Scientist       19114.12   \n",
      "4       Rick Rothackerj  28.0        NaN       34847.84   \n",
      "...                 ...   ...        ...            ...   \n",
      "149995            Nicks  25.0   Mechanic       39628.99   \n",
      "149996            Nicks  25.0   Mechanic       39628.99   \n",
      "149997            Nicks  25.0   Mechanic       39628.99   \n",
      "149998            Nicks  25.0   Mechanic       39628.99   \n",
      "149999            Nicks  25.0   Mechanic       39628.99   \n",
      "\n",
      "        Monthly_Inhand_Salary  ...  Credit_Mix  Outstanding_Debt  \\\n",
      "0                 1824.843333  ...        Good            809.98   \n",
      "1                 1824.843333  ...        Good            809.98   \n",
      "2                 1824.843333  ...        Good            809.98   \n",
      "3                 1824.843333  ...        Good            809.98   \n",
      "4                 3037.986667  ...        Good            605.03   \n",
      "...                       ...  ...         ...               ...   \n",
      "149995            3359.415833  ...         NaN            502.38   \n",
      "149996            3359.415833  ...         NaN            502.38   \n",
      "149997            3359.415833  ...        Good            502.38   \n",
      "149998            3359.415833  ...        Good            502.38   \n",
      "149999            3359.415833  ...        Good            502.38   \n",
      "\n",
      "        Credit_Utilization_Ratio  Credit_History_Age Payment_of_Min_Amount  \\\n",
      "0                      35.030402   22Yearsand9Months                    No   \n",
      "1                      33.053114  22Yearsand10Months                    No   \n",
      "2                      33.811894                 NaN                    No   \n",
      "3                      32.430559   23Yearsand0Months                    No   \n",
      "4                      25.926822   27Yearsand3Months                    No   \n",
      "...                          ...                 ...                   ...   \n",
      "149995                 34.663572   31Yearsand6Months                    No   \n",
      "149996                 40.565631   31Yearsand7Months                    No   \n",
      "149997                 41.255522   31Yearsand8Months                    No   \n",
      "149998                 33.638208   31Yearsand9Months                    No   \n",
      "149999                 34.192463  31Yearsand10Months                    No   \n",
      "\n",
      "        Total_EMI_per_month  Amount_invested_monthly  \\\n",
      "0                 49.574949               236.642682   \n",
      "1                 49.574949                21.465380   \n",
      "2                 49.574949               148.233938   \n",
      "3                 49.574949                39.082511   \n",
      "4                 18.816215                39.684018   \n",
      "...                     ...                      ...   \n",
      "149995            35.104023                60.971333   \n",
      "149996            35.104023                54.185950   \n",
      "149997            35.104023                24.028477   \n",
      "149998            35.104023               251.672582   \n",
      "149999            35.104023               167.163865   \n",
      "\n",
      "                       Payment_Behaviour  Monthly_Balance Credit_Score  \n",
      "0         Low_spent_Small_value_payments       186.266702          NaN  \n",
      "1       High_spent_Medium_value_payments       361.444004          NaN  \n",
      "2        Low_spent_Medium_value_payments       264.675446          NaN  \n",
      "3       High_spent_Medium_value_payments       343.826873          NaN  \n",
      "4        High_spent_Large_value_payments       485.298434          NaN  \n",
      "...                                  ...              ...          ...  \n",
      "149995   High_spent_Large_value_payments       479.866228         Poor  \n",
      "149996  High_spent_Medium_value_payments       496.651610         Poor  \n",
      "149997   High_spent_Large_value_payments       516.809083         Poor  \n",
      "149998    Low_spent_Large_value_payments       319.164979     Standard  \n",
      "149999                               NaN       393.673696         Poor  \n",
      "\n",
      "[150000 rows x 29 columns]\n",
      "count    150000.000000\n",
      "mean        112.087769\n",
      "std         141.649157\n",
      "min           0.000000\n",
      "25%          29.784265\n",
      "50%          67.712225\n",
      "75%         151.290071\n",
      "max        1779.103254\n",
      "Name: Total_EMI_per_month, dtype: float64\n"
     ]
    }
   ],
   "source": [
    "\n",
    "def replace_outliers(df, col_name):\n",
    "    def replace_group_outliers(group):\n",
    "        mean = group[col_name].mean()\n",
    "        std = group[col_name].std()\n",
    "        mode = group[col_name].mode()\n",
    "        threshold = 4 * std  # Define your threshold here, based on standard deviation\n",
    "\n",
    "        group.loc[group[col_name] != mode[0], col_name] = pd.NA\n",
    "        return group\n",
    "\n",
    "    return df.groupby('Customer_ID').apply(replace_group_outliers)\n",
    "\n",
    "\n",
    "\n",
    "df = replace_outliers(df, 'Total_EMI_per_month')\n",
    "print(df['Total_EMI_per_month'])\n",
    "\n",
    "def fill_group(group, col_name):\n",
    "    mode = group[col_name].mode()\n",
    "\n",
    "    # Replace outliers with mode\n",
    "    group[col_name] = group[col_name].fillna(mode[0])\n",
    "\n",
    "    return group\n",
    "\n",
    "# Function to fill missing values and handle outliers\n",
    "def fill_missing_values(df, col_name):\n",
    "    grouped = df.groupby('Customer_ID')\n",
    "    filled_df = grouped.apply(fill_group, col_name=col_name)\n",
    "    return filled_df\n",
    "\n",
    "\n",
    "df = fill_missing_values(df, 'Total_EMI_per_month')\n",
    "\n",
    "print(df)\n",
    "print(df['Total_EMI_per_month'].describe())"
   ],
   "metadata": {
    "collapsed": false,
    "ExecuteTime": {
     "end_time": "2023-11-28T16:11:06.322600200Z",
     "start_time": "2023-11-28T16:09:28.178067600Z"
    }
   }
  },
  {
   "cell_type": "code",
   "execution_count": 15,
   "outputs": [
    {
     "data": {
      "text/plain": "        Unnamed: 0 Unnamed: 0.1         ID Customer_ID      Month  \\\n0                0            0   \\n0x160a   CUS_0xd40  September   \n1                1            1   \\n0x160b   CUS_0xd40    October   \n2                2            2   \\n0x160c   CUS_0xd40   November   \n3                3            3   \\n0x160d   CUS_0xd40   December   \n4                4            4   \\n0x1616  CUS_0x21b1  September   \n...            ...          ...        ...         ...        ...   \n149995      149995     \\n149995  \\n0x25fe9  CUS_0x942c      April   \n149996      149996     \\n149996  \\n0x25fea  CUS_0x942c        May   \n149997      149997     \\n149997  \\n0x25feb  CUS_0x942c       June   \n149998      149998     \\n149998  \\n0x25fec  CUS_0x942c       July   \n149999      149999     \\n149999  \\n0x25fed  CUS_0x942c     August   \n\n                   Name   Age Occupation  Annual_Income  \\\n0         Aaron Maashoh  23.0  Scientist       19114.12   \n1         Aaron Maashoh  24.0  Scientist       19114.12   \n2         Aaron Maashoh  24.0  Scientist       19114.12   \n3         Aaron Maashoh   NaN  Scientist       19114.12   \n4       Rick Rothackerj  28.0        NaN       34847.84   \n...                 ...   ...        ...            ...   \n149995            Nicks  25.0   Mechanic       39628.99   \n149996            Nicks  25.0   Mechanic       39628.99   \n149997            Nicks  25.0   Mechanic       39628.99   \n149998            Nicks  25.0   Mechanic       39628.99   \n149999            Nicks  25.0   Mechanic       39628.99   \n\n        Monthly_Inhand_Salary  ...  Credit_Mix  Outstanding_Debt  \\\n0                 1824.843333  ...        Good            809.98   \n1                 1824.843333  ...        Good            809.98   \n2                 1824.843333  ...        Good            809.98   \n3                 1824.843333  ...        Good            809.98   \n4                 3037.986667  ...        Good            605.03   \n...                       ...  ...         ...               ...   \n149995            3359.415833  ...         NaN            502.38   \n149996            3359.415833  ...         NaN            502.38   \n149997            3359.415833  ...        Good            502.38   \n149998            3359.415833  ...        Good            502.38   \n149999            3359.415833  ...        Good            502.38   \n\n        Credit_Utilization_Ratio  Credit_History_Age Payment_of_Min_Amount  \\\n0                      35.030402   22Yearsand9Months                    No   \n1                      33.053114  22Yearsand10Months                    No   \n2                      33.811894                 NaN                    No   \n3                      32.430559   23Yearsand0Months                    No   \n4                      25.926822   27Yearsand3Months                    No   \n...                          ...                 ...                   ...   \n149995                 34.663572   31Yearsand6Months                    No   \n149996                 40.565631   31Yearsand7Months                    No   \n149997                 41.255522   31Yearsand8Months                    No   \n149998                 33.638208   31Yearsand9Months                    No   \n149999                 34.192463  31Yearsand10Months                    No   \n\n        Total_EMI_per_month  Amount_invested_monthly  \\\n0                 49.574949               236.642682   \n1                 49.574949                21.465380   \n2                 49.574949               148.233938   \n3                 49.574949                39.082511   \n4                 18.816215                39.684018   \n...                     ...                      ...   \n149995            35.104023                60.971333   \n149996            35.104023                54.185950   \n149997            35.104023                24.028477   \n149998            35.104023               251.672582   \n149999            35.104023               167.163865   \n\n                       Payment_Behaviour  Monthly_Balance Credit_Score  \n0         Low_spent_Small_value_payments       186.266702          NaN  \n1       High_spent_Medium_value_payments       361.444004          NaN  \n2        Low_spent_Medium_value_payments       264.675446          NaN  \n3       High_spent_Medium_value_payments       343.826873          NaN  \n4        High_spent_Large_value_payments       485.298434          NaN  \n...                                  ...              ...          ...  \n149995   High_spent_Large_value_payments       479.866228         Poor  \n149996  High_spent_Medium_value_payments       496.651610         Poor  \n149997   High_spent_Large_value_payments       516.809083         Poor  \n149998    Low_spent_Large_value_payments       319.164979     Standard  \n149999                               NaN       393.673696         Poor  \n\n[150000 rows x 29 columns]",
      "text/html": "<div>\n<style scoped>\n    .dataframe tbody tr th:only-of-type {\n        vertical-align: middle;\n    }\n\n    .dataframe tbody tr th {\n        vertical-align: top;\n    }\n\n    .dataframe thead th {\n        text-align: right;\n    }\n</style>\n<table border=\"1\" class=\"dataframe\">\n  <thead>\n    <tr style=\"text-align: right;\">\n      <th></th>\n      <th>Unnamed: 0</th>\n      <th>Unnamed: 0.1</th>\n      <th>ID</th>\n      <th>Customer_ID</th>\n      <th>Month</th>\n      <th>Name</th>\n      <th>Age</th>\n      <th>Occupation</th>\n      <th>Annual_Income</th>\n      <th>Monthly_Inhand_Salary</th>\n      <th>...</th>\n      <th>Credit_Mix</th>\n      <th>Outstanding_Debt</th>\n      <th>Credit_Utilization_Ratio</th>\n      <th>Credit_History_Age</th>\n      <th>Payment_of_Min_Amount</th>\n      <th>Total_EMI_per_month</th>\n      <th>Amount_invested_monthly</th>\n      <th>Payment_Behaviour</th>\n      <th>Monthly_Balance</th>\n      <th>Credit_Score</th>\n    </tr>\n  </thead>\n  <tbody>\n    <tr>\n      <th>0</th>\n      <td>0</td>\n      <td>0</td>\n      <td>\\n0x160a</td>\n      <td>CUS_0xd40</td>\n      <td>September</td>\n      <td>Aaron Maashoh</td>\n      <td>23.0</td>\n      <td>Scientist</td>\n      <td>19114.12</td>\n      <td>1824.843333</td>\n      <td>...</td>\n      <td>Good</td>\n      <td>809.98</td>\n      <td>35.030402</td>\n      <td>22Yearsand9Months</td>\n      <td>No</td>\n      <td>49.574949</td>\n      <td>236.642682</td>\n      <td>Low_spent_Small_value_payments</td>\n      <td>186.266702</td>\n      <td>NaN</td>\n    </tr>\n    <tr>\n      <th>1</th>\n      <td>1</td>\n      <td>1</td>\n      <td>\\n0x160b</td>\n      <td>CUS_0xd40</td>\n      <td>October</td>\n      <td>Aaron Maashoh</td>\n      <td>24.0</td>\n      <td>Scientist</td>\n      <td>19114.12</td>\n      <td>1824.843333</td>\n      <td>...</td>\n      <td>Good</td>\n      <td>809.98</td>\n      <td>33.053114</td>\n      <td>22Yearsand10Months</td>\n      <td>No</td>\n      <td>49.574949</td>\n      <td>21.465380</td>\n      <td>High_spent_Medium_value_payments</td>\n      <td>361.444004</td>\n      <td>NaN</td>\n    </tr>\n    <tr>\n      <th>2</th>\n      <td>2</td>\n      <td>2</td>\n      <td>\\n0x160c</td>\n      <td>CUS_0xd40</td>\n      <td>November</td>\n      <td>Aaron Maashoh</td>\n      <td>24.0</td>\n      <td>Scientist</td>\n      <td>19114.12</td>\n      <td>1824.843333</td>\n      <td>...</td>\n      <td>Good</td>\n      <td>809.98</td>\n      <td>33.811894</td>\n      <td>NaN</td>\n      <td>No</td>\n      <td>49.574949</td>\n      <td>148.233938</td>\n      <td>Low_spent_Medium_value_payments</td>\n      <td>264.675446</td>\n      <td>NaN</td>\n    </tr>\n    <tr>\n      <th>3</th>\n      <td>3</td>\n      <td>3</td>\n      <td>\\n0x160d</td>\n      <td>CUS_0xd40</td>\n      <td>December</td>\n      <td>Aaron Maashoh</td>\n      <td>NaN</td>\n      <td>Scientist</td>\n      <td>19114.12</td>\n      <td>1824.843333</td>\n      <td>...</td>\n      <td>Good</td>\n      <td>809.98</td>\n      <td>32.430559</td>\n      <td>23Yearsand0Months</td>\n      <td>No</td>\n      <td>49.574949</td>\n      <td>39.082511</td>\n      <td>High_spent_Medium_value_payments</td>\n      <td>343.826873</td>\n      <td>NaN</td>\n    </tr>\n    <tr>\n      <th>4</th>\n      <td>4</td>\n      <td>4</td>\n      <td>\\n0x1616</td>\n      <td>CUS_0x21b1</td>\n      <td>September</td>\n      <td>Rick Rothackerj</td>\n      <td>28.0</td>\n      <td>NaN</td>\n      <td>34847.84</td>\n      <td>3037.986667</td>\n      <td>...</td>\n      <td>Good</td>\n      <td>605.03</td>\n      <td>25.926822</td>\n      <td>27Yearsand3Months</td>\n      <td>No</td>\n      <td>18.816215</td>\n      <td>39.684018</td>\n      <td>High_spent_Large_value_payments</td>\n      <td>485.298434</td>\n      <td>NaN</td>\n    </tr>\n    <tr>\n      <th>...</th>\n      <td>...</td>\n      <td>...</td>\n      <td>...</td>\n      <td>...</td>\n      <td>...</td>\n      <td>...</td>\n      <td>...</td>\n      <td>...</td>\n      <td>...</td>\n      <td>...</td>\n      <td>...</td>\n      <td>...</td>\n      <td>...</td>\n      <td>...</td>\n      <td>...</td>\n      <td>...</td>\n      <td>...</td>\n      <td>...</td>\n      <td>...</td>\n      <td>...</td>\n      <td>...</td>\n    </tr>\n    <tr>\n      <th>149995</th>\n      <td>149995</td>\n      <td>\\n149995</td>\n      <td>\\n0x25fe9</td>\n      <td>CUS_0x942c</td>\n      <td>April</td>\n      <td>Nicks</td>\n      <td>25.0</td>\n      <td>Mechanic</td>\n      <td>39628.99</td>\n      <td>3359.415833</td>\n      <td>...</td>\n      <td>NaN</td>\n      <td>502.38</td>\n      <td>34.663572</td>\n      <td>31Yearsand6Months</td>\n      <td>No</td>\n      <td>35.104023</td>\n      <td>60.971333</td>\n      <td>High_spent_Large_value_payments</td>\n      <td>479.866228</td>\n      <td>Poor</td>\n    </tr>\n    <tr>\n      <th>149996</th>\n      <td>149996</td>\n      <td>\\n149996</td>\n      <td>\\n0x25fea</td>\n      <td>CUS_0x942c</td>\n      <td>May</td>\n      <td>Nicks</td>\n      <td>25.0</td>\n      <td>Mechanic</td>\n      <td>39628.99</td>\n      <td>3359.415833</td>\n      <td>...</td>\n      <td>NaN</td>\n      <td>502.38</td>\n      <td>40.565631</td>\n      <td>31Yearsand7Months</td>\n      <td>No</td>\n      <td>35.104023</td>\n      <td>54.185950</td>\n      <td>High_spent_Medium_value_payments</td>\n      <td>496.651610</td>\n      <td>Poor</td>\n    </tr>\n    <tr>\n      <th>149997</th>\n      <td>149997</td>\n      <td>\\n149997</td>\n      <td>\\n0x25feb</td>\n      <td>CUS_0x942c</td>\n      <td>June</td>\n      <td>Nicks</td>\n      <td>25.0</td>\n      <td>Mechanic</td>\n      <td>39628.99</td>\n      <td>3359.415833</td>\n      <td>...</td>\n      <td>Good</td>\n      <td>502.38</td>\n      <td>41.255522</td>\n      <td>31Yearsand8Months</td>\n      <td>No</td>\n      <td>35.104023</td>\n      <td>24.028477</td>\n      <td>High_spent_Large_value_payments</td>\n      <td>516.809083</td>\n      <td>Poor</td>\n    </tr>\n    <tr>\n      <th>149998</th>\n      <td>149998</td>\n      <td>\\n149998</td>\n      <td>\\n0x25fec</td>\n      <td>CUS_0x942c</td>\n      <td>July</td>\n      <td>Nicks</td>\n      <td>25.0</td>\n      <td>Mechanic</td>\n      <td>39628.99</td>\n      <td>3359.415833</td>\n      <td>...</td>\n      <td>Good</td>\n      <td>502.38</td>\n      <td>33.638208</td>\n      <td>31Yearsand9Months</td>\n      <td>No</td>\n      <td>35.104023</td>\n      <td>251.672582</td>\n      <td>Low_spent_Large_value_payments</td>\n      <td>319.164979</td>\n      <td>Standard</td>\n    </tr>\n    <tr>\n      <th>149999</th>\n      <td>149999</td>\n      <td>\\n149999</td>\n      <td>\\n0x25fed</td>\n      <td>CUS_0x942c</td>\n      <td>August</td>\n      <td>Nicks</td>\n      <td>25.0</td>\n      <td>Mechanic</td>\n      <td>39628.99</td>\n      <td>3359.415833</td>\n      <td>...</td>\n      <td>Good</td>\n      <td>502.38</td>\n      <td>34.192463</td>\n      <td>31Yearsand10Months</td>\n      <td>No</td>\n      <td>35.104023</td>\n      <td>167.163865</td>\n      <td>NaN</td>\n      <td>393.673696</td>\n      <td>Poor</td>\n    </tr>\n  </tbody>\n</table>\n<p>150000 rows × 29 columns</p>\n</div>"
     },
     "execution_count": 15,
     "metadata": {},
     "output_type": "execute_result"
    }
   ],
   "source": [
    "df"
   ],
   "metadata": {
    "collapsed": false,
    "ExecuteTime": {
     "end_time": "2023-11-28T16:13:10.046460200Z",
     "start_time": "2023-11-28T16:13:09.812699300Z"
    }
   }
  },
  {
   "cell_type": "code",
   "execution_count": 16,
   "outputs": [
    {
     "data": {
      "text/plain": "count    150000.000000\nmean        112.087769\nstd         141.649157\nmin           0.000000\n25%          29.784265\n50%          67.712225\n75%         151.290071\nmax        1779.103254\nName: Total_EMI_per_month, dtype: float64"
     },
     "execution_count": 16,
     "metadata": {},
     "output_type": "execute_result"
    }
   ],
   "source": [
    "df['Total_EMI_per_month'].describe()"
   ],
   "metadata": {
    "collapsed": false,
    "ExecuteTime": {
     "end_time": "2023-11-28T16:13:37.855471100Z",
     "start_time": "2023-11-28T16:13:37.808214400Z"
    }
   }
  },
  {
   "cell_type": "code",
   "execution_count": 17,
   "outputs": [
    {
     "data": {
      "text/plain": "<AxesSubplot:ylabel='Frequency'>"
     },
     "execution_count": 17,
     "metadata": {},
     "output_type": "execute_result"
    },
    {
     "data": {
      "text/plain": "<Figure size 432x288 with 1 Axes>",
      "image/png": "[encoded data removed]"
     },
     "metadata": {
      "needs_background": "light"
     },
     "output_type": "display_data"
    }
   ],
   "source": [
    "df['Total_EMI_per_month'].plot(kind='hist')"
   ],
   "metadata": {
    "collapsed": false,
    "ExecuteTime": {
     "end_time": "2023-11-28T16:14:15.600722800Z",
     "start_time": "2023-11-28T16:14:15.124743200Z"
    }
   }
  },
  {
   "cell_type": "code",
   "execution_count": 18,
   "outputs": [
    {
     "data": {
      "text/plain": "<AxesSubplot:>"
     },
     "execution_count": 18,
     "metadata": {},
     "output_type": "execute_result"
    },
    {
     "data": {
      "text/plain": "<Figure size 432x288 with 1 Axes>",
      "image/png": "[encoded data removed]"
     },
     "metadata": {
      "needs_background": "light"
     },
     "output_type": "display_data"
    }
   ],
   "source": [
    "df['Total_EMI_per_month'].plot(kind='box')\n"
   ],
   "metadata": {
    "collapsed": false,
    "ExecuteTime": {
     "end_time": "2023-11-28T16:14:46.320784900Z",
     "start_time": "2023-11-28T16:14:46.068107400Z"
    }
   }
  },
  {
   "cell_type": "markdown",
   "source": [
    "Amount invested monthly"
   ],
   "metadata": {
    "collapsed": false
   }
  },
  {
   "cell_type": "code",
   "execution_count": null,
   "outputs": [],
   "source": [],
   "metadata": {
    "collapsed": false
   }
  },
  {
   "cell_type": "markdown",
   "source": [
    "Monthly balance"
   ],
   "metadata": {
    "collapsed": false
   }
  },
  {
   "cell_type": "code",
   "execution_count": null,
   "outputs": [],
   "source": [],
   "metadata": {
    "collapsed": false
   }
  }
 ],
 "metadata": {
  "kernelspec": {
   "display_name": "Python 3",
   "language": "python",
   "name": "python3"
  },
  "language_info": {
   "codemirror_mode": {
    "name": "ipython",
    "version": 2
   },
   "file_extension": ".py",
   "mimetype": "text/x-python",
   "name": "python",
   "nbconvert_exporter": "python",
   "pygments_lexer": "ipython2",
   "version": "2.7.6"
  }
 },
 "nbformat": 4,
 "nbformat_minor": 0
}
