{
 "cells": [
  {
   "cell_type": "markdown",
   "metadata": {},
   "source": [
    "### Exercise 1 - Data set\n",
    "\n",
    "(a) What is the information you can obtain from the data set/ data sets?\n",
    "(i) Understanding demographics like age, occupation, income, and the number of accounts or credit cards each customer holds.\n",
    "(ii) Stability, security, and ability to manage finances effectively by assessing income, outstanding debt, credit utilization ratio, and monthly balances.\n",
    "(iii) Analyzing credit-related behaviors such as credit score, credit inquiries, credit history age, and types of loans.\n",
    "(iv) Identifying payment behaviors including delays from due dates, instances of delayed payments, whether minimum payment amounts are met, etc\n",
    "(v) Analysis on loans by assessing the interest rates on loans, the number and of loans taken by each customer, and changes in credit limits.\n",
    "(vi) Analyzing the payment behavior\n",
    "(vii) Analyze trends over time (4 months)"
   ]
  },
  {
   "cell_type": "code",
   "execution_count": 1,
   "metadata": {
    "ExecuteTime": {
     "end_time": "2023-11-21T15:49:07.573866100Z",
     "start_time": "2023-11-21T15:49:06.761106200Z"
    }
   },
   "outputs": [],
   "source": [
    "import pandas as pd\n"
   ]
  },
  {
   "cell_type": "code",
   "execution_count": null,
   "metadata": {
    "ExecuteTime": {
     "end_time": "2023-11-24T22:50:53.207458100Z",
     "start_time": "2023-11-24T22:50:52.140211500Z"
    },
    "pycharm": {
     "is_executing": true
    }
   },
   "outputs": [],
   "source": [
    "#path = 'C://Users//20223760//OneDrive - TU Eindhoven//Documents//School//Year 2//Q2//Visualization//Assignment 1//all_data.csv'\n",
    "path = 'all_data.csv'\n",
    "path1 = 'clean_data.csv'\n",
    "path2 = 'filled_data.csv'\n",
    "df = pd.read_csv(path1, sep=',', lineterminator='\\r')\n",
    "df[\"Type_of_Loan\"].head(50)\n"
   ]
  },
  {
   "cell_type": "markdown",
   "metadata": {},
   "source": [
    "(b) What are the attributes in the data and what is their meaning?\n",
    "ID: Unique identifier for each entry or record.\n",
    "Customer_ID: Unique identifier for each customer.\n",
    "Month: Month of the data entry.(sept-oct-nov-dec)\n",
    "Name: Name of the customer.\n",
    "Age: Age of the customer.\n",
    "SSN: Social Security Number of the customer.\n",
    "Occupation: Occupation or job title of the customer.\n",
    "Annual_Income: Annual income of the customer.\n",
    "Monthly_Inhand_Salary: Monthly take-home salary of the customer.\n",
    "Num_Bank_Accounts: Number of bank accounts the customer has.\n",
    "Num_Credit_Card: Number of credit cards the customer has.\n",
    "Interest_Rate: Interest rate associated with the customer's loans.\n",
    "Num_of_Loan: Number of loans the customer has.\n",
    "Type_of_Loan: Types of loans (e.g., Auto Loan, Credit-Builder Loan, Personal Loan, Home Equity Loan).\n",
    "Delay_from_due_date: Delay from the due date for payments.\n",
    "Num_of_Delayed_Payment: Number of delayed payments.\n",
    "Changed_Credit_Limit: Indicates if the credit limit has been changed.\n",
    "Num_Credit_Inquiries: Number of credit inquiries made by the customer.\n",
    "Credit_Mix: Mix of credit types (standard, good, etc).\n",
    "Outstanding_Debt: Amount of outstanding debt.\n",
    "Credit_Utilization_Ratio: Ratio of credit used to credit available.\n",
    "Credit_History_Age: Age of the credit history.\n",
    "Payment_of_Min_Amount: Indicates if the minimum payment amount has been paid.\n",
    "Total_EMI_per_month: Total Equated Monthly Installment (EMI) amount.\n",
    "Amount_invested_monthly: Amount invested by the customer monthly.\n",
    "Payment_Behaviour: Behavior related to payments (e.g., Low_spent_Small_value_payments).\n",
    "Monthly_Balance: Monthly balance in the account.\n",
    "Credit_Score: Credit score of the customer."
   ]
  },
  {
   "cell_type": "code",
   "execution_count": null,
   "metadata": {},
   "outputs": [],
   "source": []
  },
  {
   "cell_type": "markdown",
   "metadata": {},
   "source": [
    "(c) Write a small parsing function that can read the data position (column, row) from the file format \n",
    "you selected."
   ]
  },
  {
   "cell_type": "code",
   "execution_count": null,
   "metadata": {},
   "outputs": [],
   "source": []
  },
  {
   "cell_type": "markdown",
   "metadata": {},
   "source": [
    "(d) Write another function that outputs the distribution of the attributes, and counts the frequencies of \n",
    "the different values. "
   ]
  },
  {
   "cell_type": "code",
   "execution_count": null,
   "metadata": {},
   "outputs": [],
   "source": []
  },
  {
   "cell_type": "markdown",
   "metadata": {},
   "source": [
    "(e) Try to describe the data set in just a few sentences. How is the data provided? Which kind of \n",
    "attributes are contained in the data set? How large is the data set in terms of the number of those \n",
    "elements (listings, reviews, vehicles, geographic regions and locations, extra records, and so on)? "
   ]
  },
  {
   "cell_type": "code",
   "execution_count": null,
   "metadata": {},
   "outputs": [],
   "source": []
  },
  {
   "cell_type": "markdown",
   "metadata": {},
   "source": [
    "(f) Analyze the errors and missing values. Write a function to count how many missing values per \n",
    "attribute and per entry you have. Analyze what are the most relevant missing values that might \n",
    "hinder the analysis according to you. "
   ]
  },
  {
   "cell_type": "code",
   "execution_count": 11,
   "metadata": {},
   "outputs": [],
   "source": [
    "# Gives the count back of missing values of attributes and entries.\n",
    "def count_missing_values(df):\n",
    "    # Count missing values per attribute\n",
    "    missing_per_attribute = df.isnull().sum()\n",
    "\n",
    "    # Count missing values per entry (row)\n",
    "    missing_per_entry = df.isnull().sum(axis=1)\n",
    "\n",
    "    return missing_per_attribute, missing_per_entry\n",
    "\n",
    "\n",
    "missing_attributes, missing_entries = count_missing_values(df)"
   ]
  },
  {
   "cell_type": "code",
   "execution_count": 13,
   "metadata": {},
   "outputs": [
    {
     "data": {
      "text/plain": [
       "(ID                              0\n",
       " Customer_ID                     1\n",
       " Month                           1\n",
       " Name                        15001\n",
       " Age                             1\n",
       " SSN                             1\n",
       " Occupation                      1\n",
       " Annual_Income                   1\n",
       " Monthly_Inhand_Salary       22501\n",
       " Num_Bank_Accounts               1\n",
       " Num_Credit_Card                 1\n",
       " Interest_Rate                   1\n",
       " Num_of_Loan                     1\n",
       " Type_of_Loan                17113\n",
       " Delay_from_due_date             1\n",
       " Num_of_Delayed_Payment      10501\n",
       " Changed_Credit_Limit            1\n",
       " Num_Credit_Inquiries         3001\n",
       " Credit_Mix                      1\n",
       " Outstanding_Debt                1\n",
       " Credit_Utilization_Ratio        1\n",
       " Credit_History_Age          13501\n",
       " Payment_of_Min_Amount           1\n",
       " Total_EMI_per_month             1\n",
       " Amount_invested_monthly      6751\n",
       " Payment_Behaviour               1\n",
       " Monthly_Balance              1763\n",
       " Credit_Score                50001\n",
       " dtype: int64,\n",
       " 0          1\n",
       " 1          1\n",
       " 2          2\n",
       " 3          2\n",
       " 4          1\n",
       "           ..\n",
       " 149996     0\n",
       " 149997     0\n",
       " 149998     1\n",
       " 149999     0\n",
       " 150000    27\n",
       " Length: 150001, dtype: int64)"
      ]
     },
     "execution_count": 13,
     "metadata": {},
     "output_type": "execute_result"
    }
   ],
   "source": [
    "missing_attributes, missing_entries"
   ]
  },
  {
   "cell_type": "markdown",
   "metadata": {},
   "source": [
    "(g) Think about possible solutions for the missing/error values and propose a solution arguing your \n",
    "choice."
   ]
  },
  {
   "cell_type": "markdown",
   "metadata": {},
   "source": [
    "Most important relevant missing data is the Credit_History_Age, and Num_of_Delayed_Payment as these\n",
    "are important for predicting a persons credit score in the future.\n",
    "\n",
    "As the dataset is quite large and has lots of data, I suggest to fill the rows with the mean. This way the ML algo can predict the ones left more accurately and also have a better shot of understanding the data to compare it to the future."
   ]
  },
  {
   "cell_type": "code",
   "execution_count": null,
   "metadata": {},
   "outputs": [],
   "source": []
  }
 ],
 "metadata": {
  "kernelspec": {
   "display_name": "Python 3 (ipykernel)",
   "language": "python",
   "name": "python3"
  },
  "language_info": {
   "codemirror_mode": {
    "name": "ipython",
    "version": 3
   },
   "file_extension": ".py",
   "mimetype": "text/x-python",
   "name": "python",
   "nbconvert_exporter": "python",
   "pygments_lexer": "ipython3",
   "version": "3.9.12"
  }
 },
 "nbformat": 4,
 "nbformat_minor": 4
}
